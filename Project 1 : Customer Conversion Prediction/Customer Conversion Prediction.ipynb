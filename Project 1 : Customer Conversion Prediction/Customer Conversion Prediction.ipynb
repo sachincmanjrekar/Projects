{
 "cells": [
  {
   "cell_type": "code",
   "execution_count": 312,
   "id": "4fe556f0",
   "metadata": {},
   "outputs": [],
   "source": [
    "import pandas as pd\n",
    "import seaborn as sns\n",
    "import matplotlib.pyplot as plt\n",
    "import numpy as np\n",
    "import warnings\n",
    "warnings.filterwarnings(\"ignore\")"
   ]
  },
  {
   "cell_type": "code",
   "execution_count": 2,
   "id": "e65d0d07",
   "metadata": {},
   "outputs": [
    {
     "data": {
      "text/html": [
       "<div>\n",
       "<style scoped>\n",
       "    .dataframe tbody tr th:only-of-type {\n",
       "        vertical-align: middle;\n",
       "    }\n",
       "\n",
       "    .dataframe tbody tr th {\n",
       "        vertical-align: top;\n",
       "    }\n",
       "\n",
       "    .dataframe thead th {\n",
       "        text-align: right;\n",
       "    }\n",
       "</style>\n",
       "<table border=\"1\" class=\"dataframe\">\n",
       "  <thead>\n",
       "    <tr style=\"text-align: right;\">\n",
       "      <th></th>\n",
       "      <th>age</th>\n",
       "      <th>job</th>\n",
       "      <th>marital</th>\n",
       "      <th>education_qual</th>\n",
       "      <th>call_type</th>\n",
       "      <th>day</th>\n",
       "      <th>mon</th>\n",
       "      <th>dur</th>\n",
       "      <th>num_calls</th>\n",
       "      <th>prev_outcome</th>\n",
       "      <th>y</th>\n",
       "    </tr>\n",
       "  </thead>\n",
       "  <tbody>\n",
       "    <tr>\n",
       "      <th>0</th>\n",
       "      <td>58</td>\n",
       "      <td>management</td>\n",
       "      <td>married</td>\n",
       "      <td>tertiary</td>\n",
       "      <td>unknown</td>\n",
       "      <td>5</td>\n",
       "      <td>may</td>\n",
       "      <td>261</td>\n",
       "      <td>1</td>\n",
       "      <td>unknown</td>\n",
       "      <td>no</td>\n",
       "    </tr>\n",
       "    <tr>\n",
       "      <th>1</th>\n",
       "      <td>44</td>\n",
       "      <td>technician</td>\n",
       "      <td>single</td>\n",
       "      <td>secondary</td>\n",
       "      <td>unknown</td>\n",
       "      <td>5</td>\n",
       "      <td>may</td>\n",
       "      <td>151</td>\n",
       "      <td>1</td>\n",
       "      <td>unknown</td>\n",
       "      <td>no</td>\n",
       "    </tr>\n",
       "    <tr>\n",
       "      <th>2</th>\n",
       "      <td>33</td>\n",
       "      <td>entrepreneur</td>\n",
       "      <td>married</td>\n",
       "      <td>secondary</td>\n",
       "      <td>unknown</td>\n",
       "      <td>5</td>\n",
       "      <td>may</td>\n",
       "      <td>76</td>\n",
       "      <td>1</td>\n",
       "      <td>unknown</td>\n",
       "      <td>no</td>\n",
       "    </tr>\n",
       "    <tr>\n",
       "      <th>3</th>\n",
       "      <td>47</td>\n",
       "      <td>blue-collar</td>\n",
       "      <td>married</td>\n",
       "      <td>unknown</td>\n",
       "      <td>unknown</td>\n",
       "      <td>5</td>\n",
       "      <td>may</td>\n",
       "      <td>92</td>\n",
       "      <td>1</td>\n",
       "      <td>unknown</td>\n",
       "      <td>no</td>\n",
       "    </tr>\n",
       "    <tr>\n",
       "      <th>4</th>\n",
       "      <td>33</td>\n",
       "      <td>unknown</td>\n",
       "      <td>single</td>\n",
       "      <td>unknown</td>\n",
       "      <td>unknown</td>\n",
       "      <td>5</td>\n",
       "      <td>may</td>\n",
       "      <td>198</td>\n",
       "      <td>1</td>\n",
       "      <td>unknown</td>\n",
       "      <td>no</td>\n",
       "    </tr>\n",
       "  </tbody>\n",
       "</table>\n",
       "</div>"
      ],
      "text/plain": [
       "   age           job  marital education_qual call_type  day  mon  dur  \\\n",
       "0   58    management  married       tertiary   unknown    5  may  261   \n",
       "1   44    technician   single      secondary   unknown    5  may  151   \n",
       "2   33  entrepreneur  married      secondary   unknown    5  may   76   \n",
       "3   47   blue-collar  married        unknown   unknown    5  may   92   \n",
       "4   33       unknown   single        unknown   unknown    5  may  198   \n",
       "\n",
       "   num_calls prev_outcome   y  \n",
       "0          1      unknown  no  \n",
       "1          1      unknown  no  \n",
       "2          1      unknown  no  \n",
       "3          1      unknown  no  \n",
       "4          1      unknown  no  "
      ]
     },
     "execution_count": 2,
     "metadata": {},
     "output_type": "execute_result"
    }
   ],
   "source": [
    "df=pd.read_csv(\"train.csv\")\n",
    "df.head()"
   ]
  },
  {
   "cell_type": "code",
   "execution_count": 3,
   "id": "2663986e",
   "metadata": {},
   "outputs": [
    {
     "data": {
      "text/plain": [
       "(45211, 11)"
      ]
     },
     "execution_count": 3,
     "metadata": {},
     "output_type": "execute_result"
    }
   ],
   "source": [
    "df.shape"
   ]
  },
  {
   "cell_type": "code",
   "execution_count": 4,
   "id": "db133d2f",
   "metadata": {},
   "outputs": [
    {
     "name": "stdout",
     "output_type": "stream",
     "text": [
      "<class 'pandas.core.frame.DataFrame'>\n",
      "RangeIndex: 45211 entries, 0 to 45210\n",
      "Data columns (total 11 columns):\n",
      " #   Column          Non-Null Count  Dtype \n",
      "---  ------          --------------  ----- \n",
      " 0   age             45211 non-null  int64 \n",
      " 1   job             45211 non-null  object\n",
      " 2   marital         45211 non-null  object\n",
      " 3   education_qual  45211 non-null  object\n",
      " 4   call_type       45211 non-null  object\n",
      " 5   day             45211 non-null  int64 \n",
      " 6   mon             45211 non-null  object\n",
      " 7   dur             45211 non-null  int64 \n",
      " 8   num_calls       45211 non-null  int64 \n",
      " 9   prev_outcome    45211 non-null  object\n",
      " 10  y               45211 non-null  object\n",
      "dtypes: int64(4), object(7)\n",
      "memory usage: 3.8+ MB\n"
     ]
    }
   ],
   "source": [
    "df.info()  #checking data types"
   ]
  },
  {
   "cell_type": "code",
   "execution_count": 5,
   "id": "2227a97f",
   "metadata": {},
   "outputs": [
    {
     "data": {
      "text/plain": [
       "age               0\n",
       "job               0\n",
       "marital           0\n",
       "education_qual    0\n",
       "call_type         0\n",
       "day               0\n",
       "mon               0\n",
       "dur               0\n",
       "num_calls         0\n",
       "prev_outcome      0\n",
       "y                 0\n",
       "dtype: int64"
      ]
     },
     "execution_count": 5,
     "metadata": {},
     "output_type": "execute_result"
    }
   ],
   "source": [
    "df.isnull().sum()  #check for null values"
   ]
  },
  {
   "cell_type": "code",
   "execution_count": 6,
   "id": "63b91519",
   "metadata": {},
   "outputs": [
    {
     "data": {
      "text/html": [
       "<div>\n",
       "<style scoped>\n",
       "    .dataframe tbody tr th:only-of-type {\n",
       "        vertical-align: middle;\n",
       "    }\n",
       "\n",
       "    .dataframe tbody tr th {\n",
       "        vertical-align: top;\n",
       "    }\n",
       "\n",
       "    .dataframe thead th {\n",
       "        text-align: right;\n",
       "    }\n",
       "</style>\n",
       "<table border=\"1\" class=\"dataframe\">\n",
       "  <thead>\n",
       "    <tr style=\"text-align: right;\">\n",
       "      <th></th>\n",
       "      <th>age</th>\n",
       "      <th>day</th>\n",
       "      <th>dur</th>\n",
       "      <th>num_calls</th>\n",
       "    </tr>\n",
       "  </thead>\n",
       "  <tbody>\n",
       "    <tr>\n",
       "      <th>count</th>\n",
       "      <td>45211.000000</td>\n",
       "      <td>45211.000000</td>\n",
       "      <td>45211.000000</td>\n",
       "      <td>45211.000000</td>\n",
       "    </tr>\n",
       "    <tr>\n",
       "      <th>mean</th>\n",
       "      <td>40.936210</td>\n",
       "      <td>15.806419</td>\n",
       "      <td>258.163080</td>\n",
       "      <td>2.763841</td>\n",
       "    </tr>\n",
       "    <tr>\n",
       "      <th>std</th>\n",
       "      <td>10.618762</td>\n",
       "      <td>8.322476</td>\n",
       "      <td>257.527812</td>\n",
       "      <td>3.098021</td>\n",
       "    </tr>\n",
       "    <tr>\n",
       "      <th>min</th>\n",
       "      <td>18.000000</td>\n",
       "      <td>1.000000</td>\n",
       "      <td>0.000000</td>\n",
       "      <td>1.000000</td>\n",
       "    </tr>\n",
       "    <tr>\n",
       "      <th>25%</th>\n",
       "      <td>33.000000</td>\n",
       "      <td>8.000000</td>\n",
       "      <td>103.000000</td>\n",
       "      <td>1.000000</td>\n",
       "    </tr>\n",
       "    <tr>\n",
       "      <th>50%</th>\n",
       "      <td>39.000000</td>\n",
       "      <td>16.000000</td>\n",
       "      <td>180.000000</td>\n",
       "      <td>2.000000</td>\n",
       "    </tr>\n",
       "    <tr>\n",
       "      <th>75%</th>\n",
       "      <td>48.000000</td>\n",
       "      <td>21.000000</td>\n",
       "      <td>319.000000</td>\n",
       "      <td>3.000000</td>\n",
       "    </tr>\n",
       "    <tr>\n",
       "      <th>max</th>\n",
       "      <td>95.000000</td>\n",
       "      <td>31.000000</td>\n",
       "      <td>4918.000000</td>\n",
       "      <td>63.000000</td>\n",
       "    </tr>\n",
       "  </tbody>\n",
       "</table>\n",
       "</div>"
      ],
      "text/plain": [
       "                age           day           dur     num_calls\n",
       "count  45211.000000  45211.000000  45211.000000  45211.000000\n",
       "mean      40.936210     15.806419    258.163080      2.763841\n",
       "std       10.618762      8.322476    257.527812      3.098021\n",
       "min       18.000000      1.000000      0.000000      1.000000\n",
       "25%       33.000000      8.000000    103.000000      1.000000\n",
       "50%       39.000000     16.000000    180.000000      2.000000\n",
       "75%       48.000000     21.000000    319.000000      3.000000\n",
       "max       95.000000     31.000000   4918.000000     63.000000"
      ]
     },
     "execution_count": 6,
     "metadata": {},
     "output_type": "execute_result"
    }
   ],
   "source": [
    "df.describe()  #calculate statistical data on numerical column"
   ]
  },
  {
   "cell_type": "code",
   "execution_count": 7,
   "id": "a27ddb35",
   "metadata": {},
   "outputs": [
    {
     "data": {
      "text/plain": [
       "Index(['age', 'job', 'marital', 'education_qual', 'call_type', 'day', 'mon',\n",
       "       'dur', 'num_calls', 'prev_outcome', 'y'],\n",
       "      dtype='object')"
      ]
     },
     "execution_count": 7,
     "metadata": {},
     "output_type": "execute_result"
    }
   ],
   "source": [
    "df.columns"
   ]
  },
  {
   "cell_type": "markdown",
   "id": "36296a6d",
   "metadata": {},
   "source": [
    "### Outlier detection using IQR approach"
   ]
  },
  {
   "cell_type": "code",
   "execution_count": 8,
   "id": "b96479f9",
   "metadata": {},
   "outputs": [
    {
     "name": "stdout",
     "output_type": "stream",
     "text": [
      "age lower threshold :10.5 and upper threshold :70.5\n",
      "day lower threshold :-11.5 and upper threshold :40.5\n",
      "dur lower threshold :-221.0 and upper threshold :643.0\n",
      "num_calls lower threshold :-2.0 and upper threshold :6.0\n"
     ]
    }
   ],
   "source": [
    "a=['age', 'day', 'dur', 'num_calls']\n",
    "for i in a:\n",
    "    iqr = df[i].quantile(0.75) - df[i].quantile(0.25)\n",
    "    upper_threshold = df[i].quantile(0.75) + (1.5 * iqr)\n",
    "    lower_threshold = df[i].quantile(0.25) - (1.5 * iqr)\n",
    "    print(\"{} lower threshold :{} and upper threshold :{}\".format(i,lower_threshold, upper_threshold))"
   ]
  },
  {
   "cell_type": "markdown",
   "id": "d0669337",
   "metadata": {},
   "source": [
    "### Conclusion :"
   ]
  },
  {
   "cell_type": "markdown",
   "id": "043f499d",
   "metadata": {},
   "source": [
    "- 'age' which is Age of potential customer whose values lies in between 18 and 95 which is reasonable by our knowledge. \n",
    "- maximum value of 'day' is 31 and minimum is 1 which is true by our knowledge but we have to analyze again since some month have maximum values 28 or 30 . \n",
    "- 'dur' which have values which exceedes upper threshold, so we need to handle it.\n",
    "- 'num_calls' have values which exceedes upper threshold, so we need to handle it.\n",
    "- conclusion: outlier detected in 'dur' and 'num_calls'"
   ]
  },
  {
   "cell_type": "markdown",
   "id": "87eaaf62",
   "metadata": {},
   "source": [
    "### Clipping the outlier"
   ]
  },
  {
   "cell_type": "code",
   "execution_count": 9,
   "id": "c3ce2007",
   "metadata": {},
   "outputs": [],
   "source": [
    "a=['dur', 'num_calls']\n",
    "for i in a:\n",
    "    iqr = df[i].quantile(0.75) - df[i].quantile(0.25)\n",
    "    upper_threshold = df[i].quantile(0.75) + (1.5 * iqr)\n",
    "    lower_threshold = df[i].quantile(0.25) - (1.5 * iqr)\n",
    "    df[i]=df[i].clip(lower_threshold, upper_threshold)"
   ]
  },
  {
   "cell_type": "markdown",
   "id": "6e5f9483",
   "metadata": {},
   "source": [
    "cliping of outlier has been done.`"
   ]
  },
  {
   "cell_type": "code",
   "execution_count": 10,
   "id": "b7fa947a",
   "metadata": {},
   "outputs": [
    {
     "data": {
      "text/plain": [
       "(45211, 11)"
      ]
     },
     "execution_count": 10,
     "metadata": {},
     "output_type": "execute_result"
    }
   ],
   "source": [
    "df.shape  #shape which give number of rows and column"
   ]
  },
  {
   "cell_type": "code",
   "execution_count": 11,
   "id": "45577f1d",
   "metadata": {},
   "outputs": [
    {
     "data": {
      "text/plain": [
       "16"
      ]
     },
     "execution_count": 11,
     "metadata": {},
     "output_type": "execute_result"
    }
   ],
   "source": [
    "df.duplicated().sum()  #number of duplicated rows present"
   ]
  },
  {
   "cell_type": "code",
   "execution_count": 12,
   "id": "31c4f919",
   "metadata": {},
   "outputs": [],
   "source": [
    "df.drop_duplicates(inplace=True)  #delete the duplicates"
   ]
  },
  {
   "cell_type": "code",
   "execution_count": 13,
   "id": "1d6f183a",
   "metadata": {},
   "outputs": [
    {
     "data": {
      "text/plain": [
       "(45195, 11)"
      ]
     },
     "execution_count": 13,
     "metadata": {},
     "output_type": "execute_result"
    }
   ],
   "source": [
    "df.shape  #check the shape after removing duplicates"
   ]
  },
  {
   "cell_type": "code",
   "execution_count": 14,
   "id": "0eac9294",
   "metadata": {},
   "outputs": [
    {
     "data": {
      "text/plain": [
       "blue-collar      9728\n",
       "management       9455\n",
       "technician       7593\n",
       "admin.           5170\n",
       "services         4152\n",
       "retired          2263\n",
       "self-employed    1579\n",
       "entrepreneur     1487\n",
       "unemployed       1303\n",
       "housemaid        1240\n",
       "student           937\n",
       "unknown           288\n",
       "Name: job, dtype: int64"
      ]
     },
     "execution_count": 14,
     "metadata": {},
     "output_type": "execute_result"
    }
   ],
   "source": [
    "df['job'].value_counts()   #count number of people in each 'job' type"
   ]
  },
  {
   "cell_type": "code",
   "execution_count": 15,
   "id": "ca138248",
   "metadata": {},
   "outputs": [],
   "source": [
    "df['job'].replace('admin.','admin',inplace=True)  #admin contains '.',remove it."
   ]
  },
  {
   "cell_type": "code",
   "execution_count": 16,
   "id": "3433e305",
   "metadata": {},
   "outputs": [
    {
     "data": {
      "text/plain": [
       "blue-collar      9728\n",
       "management       9455\n",
       "technician       7593\n",
       "admin            5170\n",
       "services         4152\n",
       "retired          2263\n",
       "self-employed    1579\n",
       "entrepreneur     1487\n",
       "unemployed       1303\n",
       "housemaid        1240\n",
       "student           937\n",
       "unknown           288\n",
       "Name: job, dtype: int64"
      ]
     },
     "execution_count": 16,
     "metadata": {},
     "output_type": "execute_result"
    }
   ],
   "source": [
    "df['job'].value_counts()"
   ]
  },
  {
   "cell_type": "code",
   "execution_count": 17,
   "id": "60a6db7e",
   "metadata": {},
   "outputs": [
    {
     "data": {
      "text/plain": [
       "0.6372386325921009"
      ]
     },
     "execution_count": 17,
     "metadata": {},
     "output_type": "execute_result"
    }
   ],
   "source": [
    "(df[df['job']=='unknown'].shape[0]/df.shape[0])*100"
   ]
  },
  {
   "cell_type": "markdown",
   "id": "f2daf03c",
   "metadata": {},
   "source": [
    "- we don't know job of 0.5% people"
   ]
  },
  {
   "cell_type": "code",
   "execution_count": 18,
   "id": "2591c635",
   "metadata": {},
   "outputs": [
    {
     "data": {
      "text/plain": [
       "array(['married', 'single', 'divorced'], dtype=object)"
      ]
     },
     "execution_count": 18,
     "metadata": {},
     "output_type": "execute_result"
    }
   ],
   "source": [
    "df['marital'].unique() #finding unique marital status"
   ]
  },
  {
   "cell_type": "code",
   "execution_count": 19,
   "id": "5bccbb7e",
   "metadata": {},
   "outputs": [
    {
     "data": {
      "text/plain": [
       "married     27204\n",
       "single      12784\n",
       "divorced     5207\n",
       "Name: marital, dtype: int64"
      ]
     },
     "execution_count": 19,
     "metadata": {},
     "output_type": "execute_result"
    }
   ],
   "source": [
    "df['marital'].value_counts()  #count number of people in each marital status "
   ]
  },
  {
   "cell_type": "code",
   "execution_count": 20,
   "id": "6b1c5dcc",
   "metadata": {},
   "outputs": [
    {
     "data": {
      "text/plain": [
       "array(['tertiary', 'secondary', 'unknown', 'primary'], dtype=object)"
      ]
     },
     "execution_count": 20,
     "metadata": {},
     "output_type": "execute_result"
    }
   ],
   "source": [
    "df['education_qual'].unique() #finding unique education qualification"
   ]
  },
  {
   "cell_type": "code",
   "execution_count": 21,
   "id": "e9caf780",
   "metadata": {},
   "outputs": [
    {
     "data": {
      "text/plain": [
       "secondary    23192\n",
       "tertiary     13296\n",
       "primary       6850\n",
       "unknown       1857\n",
       "Name: education_qual, dtype: int64"
      ]
     },
     "execution_count": 21,
     "metadata": {},
     "output_type": "execute_result"
    }
   ],
   "source": [
    "df['education_qual'].value_counts()  #count number of people in each unique education qualification category"
   ]
  },
  {
   "cell_type": "code",
   "execution_count": 22,
   "id": "f37b59a3",
   "metadata": {},
   "outputs": [
    {
     "data": {
      "text/plain": [
       "4.108861599734484"
      ]
     },
     "execution_count": 22,
     "metadata": {},
     "output_type": "execute_result"
    }
   ],
   "source": [
    "(df[df['education_qual']=='unknown'].shape[0]/df.shape[0])*100"
   ]
  },
  {
   "cell_type": "markdown",
   "id": "f259006e",
   "metadata": {},
   "source": [
    "-  We don't know education qualification of 1857 people which is just over 4%"
   ]
  },
  {
   "cell_type": "code",
   "execution_count": 23,
   "id": "16887da8",
   "metadata": {},
   "outputs": [
    {
     "data": {
      "text/plain": [
       "array(['unknown', 'cellular', 'telephone'], dtype=object)"
      ]
     },
     "execution_count": 23,
     "metadata": {},
     "output_type": "execute_result"
    }
   ],
   "source": [
    "df['call_type'].unique()  #finding unique call_type"
   ]
  },
  {
   "cell_type": "code",
   "execution_count": 24,
   "id": "bbeab64b",
   "metadata": {},
   "outputs": [
    {
     "data": {
      "text/plain": [
       "cellular     29277\n",
       "unknown      13012\n",
       "telephone     2906\n",
       "Name: call_type, dtype: int64"
      ]
     },
     "execution_count": 24,
     "metadata": {},
     "output_type": "execute_result"
    }
   ],
   "source": [
    "df['call_type'].value_counts()  #count number of calls in each call type"
   ]
  },
  {
   "cell_type": "code",
   "execution_count": 25,
   "id": "2967c36f",
   "metadata": {},
   "outputs": [
    {
     "data": {
      "text/plain": [
       "28.79079544197367"
      ]
     },
     "execution_count": 25,
     "metadata": {},
     "output_type": "execute_result"
    }
   ],
   "source": [
    "(df[df['call_type']=='unknown'].shape[0]/df.shape[0])*100"
   ]
  },
  {
   "cell_type": "markdown",
   "id": "2de04499",
   "metadata": {},
   "source": [
    "-  We don't know call type of 2906 calls which is 28.8%"
   ]
  },
  {
   "cell_type": "code",
   "execution_count": 26,
   "id": "ee4c370f",
   "metadata": {},
   "outputs": [
    {
     "data": {
      "text/plain": [
       "(1, 31)"
      ]
     },
     "execution_count": 26,
     "metadata": {},
     "output_type": "execute_result"
    }
   ],
   "source": [
    "df['day'].min(),df['day'].max()  "
   ]
  },
  {
   "cell_type": "code",
   "execution_count": 27,
   "id": "c29212a0",
   "metadata": {},
   "outputs": [
    {
     "data": {
      "text/plain": [
       "31"
      ]
     },
     "execution_count": 27,
     "metadata": {},
     "output_type": "execute_result"
    }
   ],
   "source": [
    "df['day'].unique().size"
   ]
  },
  {
   "cell_type": "code",
   "execution_count": 28,
   "id": "a363fc39",
   "metadata": {},
   "outputs": [
    {
     "data": {
      "text/plain": [
       "(array(['may', 'jun', 'jul', 'aug', 'oct', 'nov', 'dec', 'jan', 'feb',\n",
       "        'mar', 'apr', 'sep'], dtype=object),\n",
       " 12)"
      ]
     },
     "execution_count": 28,
     "metadata": {},
     "output_type": "execute_result"
    }
   ],
   "source": [
    "df['mon'].unique(),df['mon'].unique().size  #check unique values of month"
   ]
  },
  {
   "cell_type": "code",
   "execution_count": 29,
   "id": "0cb0d081",
   "metadata": {},
   "outputs": [
    {
     "name": "stdout",
     "output_type": "stream",
     "text": [
      "False\n"
     ]
    },
    {
     "data": {
      "text/plain": [
       "array(['jul', 'oct', 'mar', 'aug', 'dec', 'may'], dtype=object)"
      ]
     },
     "execution_count": 29,
     "metadata": {},
     "output_type": "execute_result"
    }
   ],
   "source": [
    "print('feb' in df.loc[df['day']==30,'mon'].unique()) #check whether 'february' month has 30 days\n",
    "df.loc[df['day']==31,'mon'].unique()  #check is there some months which should have 'day 30' contain 'day 31'"
   ]
  },
  {
   "cell_type": "code",
   "execution_count": 30,
   "id": "231f9868",
   "metadata": {},
   "outputs": [
    {
     "data": {
      "text/plain": [
       "array(['unknown', 'failure', 'other', 'success'], dtype=object)"
      ]
     },
     "execution_count": 30,
     "metadata": {},
     "output_type": "execute_result"
    }
   ],
   "source": [
    "df['prev_outcome'].unique()  #finding unique previous outcome"
   ]
  },
  {
   "cell_type": "code",
   "execution_count": 31,
   "id": "64639965",
   "metadata": {},
   "outputs": [
    {
     "data": {
      "text/plain": [
       "unknown    36943\n",
       "failure     4901\n",
       "other       1840\n",
       "success     1511\n",
       "Name: prev_outcome, dtype: int64"
      ]
     },
     "execution_count": 31,
     "metadata": {},
     "output_type": "execute_result"
    }
   ],
   "source": [
    "df['prev_outcome'].value_counts()"
   ]
  },
  {
   "cell_type": "code",
   "execution_count": 32,
   "id": "f7ac2277",
   "metadata": {},
   "outputs": [
    {
     "data": {
      "text/plain": [
       "81.74134306892356"
      ]
     },
     "execution_count": 32,
     "metadata": {},
     "output_type": "execute_result"
    }
   ],
   "source": [
    "(df[df['prev_outcome']=='unknown'].shape[0]/df.shape[0])*100"
   ]
  },
  {
   "cell_type": "markdown",
   "id": "1752abce",
   "metadata": {},
   "source": [
    "- we don't know previous outcome of 36953 people which is 81.7%"
   ]
  },
  {
   "cell_type": "code",
   "execution_count": 33,
   "id": "06e1b00f",
   "metadata": {},
   "outputs": [
    {
     "data": {
      "text/plain": [
       "array(['no', 'yes'], dtype=object)"
      ]
     },
     "execution_count": 33,
     "metadata": {},
     "output_type": "execute_result"
    }
   ],
   "source": [
    "df['y'].unique()"
   ]
  },
  {
   "cell_type": "code",
   "execution_count": 34,
   "id": "65aa33b5",
   "metadata": {},
   "outputs": [
    {
     "data": {
      "text/plain": [
       "no     39908\n",
       "yes     5287\n",
       "Name: y, dtype: int64"
      ]
     },
     "execution_count": 34,
     "metadata": {},
     "output_type": "execute_result"
    }
   ],
   "source": [
    "df['y'].value_counts()"
   ]
  },
  {
   "cell_type": "code",
   "execution_count": 35,
   "id": "33efdd8b",
   "metadata": {},
   "outputs": [
    {
     "data": {
      "text/plain": [
       "11.69819670317513"
      ]
     },
     "execution_count": 35,
     "metadata": {},
     "output_type": "execute_result"
    }
   ],
   "source": [
    "(df[df['y']=='yes'].shape[0]/df.shape[0])*100"
   ]
  },
  {
   "cell_type": "markdown",
   "id": "71494b82",
   "metadata": {},
   "source": [
    "- It is highly imbalanced data . Only 11% people signed up for the insurance"
   ]
  },
  {
   "cell_type": "markdown",
   "id": "381461fb",
   "metadata": {},
   "source": [
    "### Data Engineering of unknown 'job' values"
   ]
  },
  {
   "cell_type": "code",
   "execution_count": 36,
   "id": "d4e34421",
   "metadata": {},
   "outputs": [
    {
     "data": {
      "text/plain": [
       "(45142, 11)"
      ]
     },
     "execution_count": 36,
     "metadata": {},
     "output_type": "execute_result"
    }
   ],
   "source": [
    "df=df.loc[~((df['job']=='unknown')&(df['education_qual']=='unknown')&(df['call_type']=='unknown')&(df['prev_outcome']=='unknown')&(df['y']=='no'))]\n",
    "df.shape"
   ]
  },
  {
   "cell_type": "code",
   "execution_count": 37,
   "id": "5f2e76b0",
   "metadata": {},
   "outputs": [
    {
     "data": {
      "text/plain": [
       "blue-collar      9728\n",
       "management       9455\n",
       "technician       7593\n",
       "admin            5170\n",
       "services         4152\n",
       "retired          2263\n",
       "self-employed    1579\n",
       "entrepreneur     1487\n",
       "unemployed       1303\n",
       "housemaid        1240\n",
       "student           937\n",
       "unknown           235\n",
       "Name: job, dtype: int64"
      ]
     },
     "execution_count": 37,
     "metadata": {},
     "output_type": "execute_result"
    }
   ],
   "source": [
    "df['job'].value_counts()"
   ]
  },
  {
   "cell_type": "code",
   "execution_count": 38,
   "id": "c4667966",
   "metadata": {},
   "outputs": [
    {
     "data": {
      "text/plain": [
       "(201, 11)"
      ]
     },
     "execution_count": 38,
     "metadata": {},
     "output_type": "execute_result"
    }
   ],
   "source": [
    "df.loc[((df['job']=='unknown')&(df['y']=='no'))].shape  #people whose job is unknown and not choosing insurance we deleting those rows."
   ]
  },
  {
   "cell_type": "code",
   "execution_count": 39,
   "id": "f1b7dded",
   "metadata": {},
   "outputs": [
    {
     "data": {
      "text/plain": [
       "(44941, 11)"
      ]
     },
     "execution_count": 39,
     "metadata": {},
     "output_type": "execute_result"
    }
   ],
   "source": [
    "df=df.loc[~((df['job']=='unknown')&(df['y']=='no'))]   #drop rows where job is unknown and not choosing insurance\n",
    "df.shape"
   ]
  },
  {
   "cell_type": "code",
   "execution_count": 40,
   "id": "5d4c937a",
   "metadata": {},
   "outputs": [
    {
     "data": {
      "text/plain": [
       "blue-collar      9728\n",
       "management       9455\n",
       "technician       7593\n",
       "admin            5170\n",
       "services         4152\n",
       "retired          2263\n",
       "self-employed    1579\n",
       "entrepreneur     1487\n",
       "unemployed       1303\n",
       "housemaid        1240\n",
       "student           937\n",
       "unknown            34\n",
       "Name: job, dtype: int64"
      ]
     },
     "execution_count": 40,
     "metadata": {},
     "output_type": "execute_result"
    }
   ],
   "source": [
    "df['job'].value_counts()"
   ]
  },
  {
   "cell_type": "code",
   "execution_count": 41,
   "id": "d1aeec01",
   "metadata": {},
   "outputs": [
    {
     "name": "stderr",
     "output_type": "stream",
     "text": [
      "C:\\Users\\scman\\AppData\\Local\\Temp\\ipykernel_18264\\2194105571.py:1: UserWarning: Boolean Series key will be reindexed to match DataFrame index.\n",
      "  df.loc[(df['job']=='unknown')][df['age']>30].shape  #people whose job is unknown are people above 30 age.\n"
     ]
    },
    {
     "data": {
      "text/plain": [
       "(30, 11)"
      ]
     },
     "execution_count": 41,
     "metadata": {},
     "output_type": "execute_result"
    }
   ],
   "source": [
    "df.loc[(df['job']=='unknown')][df['age']>30].shape  #people whose job is unknown are people above 30 age."
   ]
  },
  {
   "cell_type": "code",
   "execution_count": 42,
   "id": "1c56487a",
   "metadata": {},
   "outputs": [
    {
     "data": {
      "text/plain": [
       "management       4024\n",
       "technician        814\n",
       "entrepreneur      428\n",
       "self-employed     407\n",
       "retired           254\n",
       "admin             205\n",
       "unemployed        116\n",
       "housemaid         108\n",
       "services           78\n",
       "blue-collar        54\n",
       "student             8\n",
       "unknown             1\n",
       "Name: job, dtype: int64"
      ]
     },
     "execution_count": 42,
     "metadata": {},
     "output_type": "execute_result"
    }
   ],
   "source": [
    "df.loc[(df['age']>30)&(df['marital']==\"married\")&(df['education_qual']=='tertiary')]['job'].value_counts()  #here majority people are job as management"
   ]
  },
  {
   "cell_type": "code",
   "execution_count": 43,
   "id": "dc5f97bd",
   "metadata": {},
   "outputs": [],
   "source": [
    "df.loc[(df['age']>30)&(df['marital']==\"married\")&(df['education_qual']=='tertiary')&(df['job']=='unknown'),'job']='management'"
   ]
  },
  {
   "cell_type": "code",
   "execution_count": 44,
   "id": "c1b62f32",
   "metadata": {},
   "outputs": [
    {
     "data": {
      "text/plain": [
       "blue-collar      2727\n",
       "retired           602\n",
       "housemaid         483\n",
       "management        246\n",
       "services          216\n",
       "unemployed        155\n",
       "entrepreneur      149\n",
       "admin             142\n",
       "technician        121\n",
       "self-employed     110\n",
       "unknown             3\n",
       "student             2\n",
       "Name: job, dtype: int64"
      ]
     },
     "execution_count": 44,
     "metadata": {},
     "output_type": "execute_result"
    }
   ],
   "source": [
    "df.loc[(df['age']>30)&(df['marital']==\"married\")&(df['education_qual']=='primary')]['job'].value_counts() #majority are blue collar"
   ]
  },
  {
   "cell_type": "code",
   "execution_count": 45,
   "id": "7dbd18da",
   "metadata": {},
   "outputs": [],
   "source": [
    "df.loc[(df['age']>30)&(df['marital']==\"married\")&(df['education_qual']=='primary')&(df['job']=='unknown'),'job']='blue-collar'"
   ]
  },
  {
   "cell_type": "code",
   "execution_count": 46,
   "id": "dc895755",
   "metadata": {},
   "outputs": [
    {
     "data": {
      "text/plain": [
       "blue-collar      9731\n",
       "management       9456\n",
       "technician       7593\n",
       "admin            5170\n",
       "services         4152\n",
       "retired          2263\n",
       "self-employed    1579\n",
       "entrepreneur     1487\n",
       "unemployed       1303\n",
       "housemaid        1240\n",
       "student           937\n",
       "unknown            30\n",
       "Name: job, dtype: int64"
      ]
     },
     "execution_count": 46,
     "metadata": {},
     "output_type": "execute_result"
    }
   ],
   "source": [
    "df['job'].value_counts()"
   ]
  },
  {
   "cell_type": "code",
   "execution_count": 47,
   "id": "7ca3334b",
   "metadata": {},
   "outputs": [
    {
     "data": {
      "text/plain": [
       "technician       896\n",
       "admin            658\n",
       "blue-collar      593\n",
       "services         453\n",
       "management       176\n",
       "unemployed        99\n",
       "self-employed     64\n",
       "entrepreneur      43\n",
       "retired           36\n",
       "housemaid         35\n",
       "student           24\n",
       "unknown            1\n",
       "Name: job, dtype: int64"
      ]
     },
     "execution_count": 47,
     "metadata": {},
     "output_type": "execute_result"
    }
   ],
   "source": [
    "df.loc[(df['age']>30)&(df['marital']==\"single\")&(df['education_qual']=='secondary')&(df['prev_outcome']=='unknown')]['job'].value_counts()"
   ]
  },
  {
   "cell_type": "code",
   "execution_count": 48,
   "id": "3cd12cd9",
   "metadata": {},
   "outputs": [
    {
     "data": {
      "text/html": [
       "<div>\n",
       "<style scoped>\n",
       "    .dataframe tbody tr th:only-of-type {\n",
       "        vertical-align: middle;\n",
       "    }\n",
       "\n",
       "    .dataframe tbody tr th {\n",
       "        vertical-align: top;\n",
       "    }\n",
       "\n",
       "    .dataframe thead th {\n",
       "        text-align: right;\n",
       "    }\n",
       "</style>\n",
       "<table border=\"1\" class=\"dataframe\">\n",
       "  <thead>\n",
       "    <tr style=\"text-align: right;\">\n",
       "      <th></th>\n",
       "      <th>age</th>\n",
       "      <th>job</th>\n",
       "      <th>marital</th>\n",
       "      <th>education_qual</th>\n",
       "      <th>call_type</th>\n",
       "      <th>day</th>\n",
       "      <th>mon</th>\n",
       "      <th>dur</th>\n",
       "      <th>num_calls</th>\n",
       "      <th>prev_outcome</th>\n",
       "      <th>y</th>\n",
       "    </tr>\n",
       "  </thead>\n",
       "  <tbody>\n",
       "    <tr>\n",
       "      <th>40196</th>\n",
       "      <td>37</td>\n",
       "      <td>unknown</td>\n",
       "      <td>single</td>\n",
       "      <td>tertiary</td>\n",
       "      <td>cellular</td>\n",
       "      <td>8</td>\n",
       "      <td>jun</td>\n",
       "      <td>257.0</td>\n",
       "      <td>2.0</td>\n",
       "      <td>success</td>\n",
       "      <td>yes</td>\n",
       "    </tr>\n",
       "    <tr>\n",
       "      <th>41542</th>\n",
       "      <td>38</td>\n",
       "      <td>unknown</td>\n",
       "      <td>single</td>\n",
       "      <td>tertiary</td>\n",
       "      <td>cellular</td>\n",
       "      <td>11</td>\n",
       "      <td>sep</td>\n",
       "      <td>260.0</td>\n",
       "      <td>3.0</td>\n",
       "      <td>success</td>\n",
       "      <td>yes</td>\n",
       "    </tr>\n",
       "    <tr>\n",
       "      <th>41985</th>\n",
       "      <td>41</td>\n",
       "      <td>unknown</td>\n",
       "      <td>single</td>\n",
       "      <td>unknown</td>\n",
       "      <td>cellular</td>\n",
       "      <td>27</td>\n",
       "      <td>oct</td>\n",
       "      <td>143.0</td>\n",
       "      <td>1.0</td>\n",
       "      <td>success</td>\n",
       "      <td>yes</td>\n",
       "    </tr>\n",
       "    <tr>\n",
       "      <th>42739</th>\n",
       "      <td>42</td>\n",
       "      <td>unknown</td>\n",
       "      <td>single</td>\n",
       "      <td>unknown</td>\n",
       "      <td>cellular</td>\n",
       "      <td>27</td>\n",
       "      <td>jan</td>\n",
       "      <td>245.0</td>\n",
       "      <td>1.0</td>\n",
       "      <td>success</td>\n",
       "      <td>yes</td>\n",
       "    </tr>\n",
       "    <tr>\n",
       "      <th>44970</th>\n",
       "      <td>28</td>\n",
       "      <td>unknown</td>\n",
       "      <td>single</td>\n",
       "      <td>unknown</td>\n",
       "      <td>cellular</td>\n",
       "      <td>11</td>\n",
       "      <td>oct</td>\n",
       "      <td>450.0</td>\n",
       "      <td>1.0</td>\n",
       "      <td>success</td>\n",
       "      <td>yes</td>\n",
       "    </tr>\n",
       "  </tbody>\n",
       "</table>\n",
       "</div>"
      ],
      "text/plain": [
       "       age      job marital education_qual call_type  day  mon    dur  \\\n",
       "40196   37  unknown  single       tertiary  cellular    8  jun  257.0   \n",
       "41542   38  unknown  single       tertiary  cellular   11  sep  260.0   \n",
       "41985   41  unknown  single        unknown  cellular   27  oct  143.0   \n",
       "42739   42  unknown  single        unknown  cellular   27  jan  245.0   \n",
       "44970   28  unknown  single        unknown  cellular   11  oct  450.0   \n",
       "\n",
       "       num_calls prev_outcome    y  \n",
       "40196        2.0      success  yes  \n",
       "41542        3.0      success  yes  \n",
       "41985        1.0      success  yes  \n",
       "42739        1.0      success  yes  \n",
       "44970        1.0      success  yes  "
      ]
     },
     "execution_count": 48,
     "metadata": {},
     "output_type": "execute_result"
    }
   ],
   "source": [
    "df[(df['age']<50)&(df['job']=='unknown')&(df['prev_outcome']=='success')]"
   ]
  },
  {
   "cell_type": "code",
   "execution_count": 49,
   "id": "f5024141",
   "metadata": {},
   "outputs": [
    {
     "data": {
      "text/plain": [
       "management       302\n",
       "technician       195\n",
       "admin            162\n",
       "blue-collar      125\n",
       "student           87\n",
       "services          71\n",
       "unemployed        47\n",
       "self-employed     43\n",
       "housemaid         16\n",
       "entrepreneur      12\n",
       "unknown            5\n",
       "Name: job, dtype: int64"
      ]
     },
     "execution_count": 49,
     "metadata": {},
     "output_type": "execute_result"
    }
   ],
   "source": [
    "df[(df['age']<50)&(df['prev_outcome']=='success')]['job'].value_counts()"
   ]
  },
  {
   "cell_type": "code",
   "execution_count": 50,
   "id": "06d8fecf",
   "metadata": {},
   "outputs": [],
   "source": [
    "df.loc[(df['age']<50)&(df['job']=='unknown')&(df['prev_outcome']=='success'),'job']='management'"
   ]
  },
  {
   "cell_type": "code",
   "execution_count": 51,
   "id": "adef8e30",
   "metadata": {},
   "outputs": [
    {
     "data": {
      "text/html": [
       "<div>\n",
       "<style scoped>\n",
       "    .dataframe tbody tr th:only-of-type {\n",
       "        vertical-align: middle;\n",
       "    }\n",
       "\n",
       "    .dataframe tbody tr th {\n",
       "        vertical-align: top;\n",
       "    }\n",
       "\n",
       "    .dataframe thead th {\n",
       "        text-align: right;\n",
       "    }\n",
       "</style>\n",
       "<table border=\"1\" class=\"dataframe\">\n",
       "  <thead>\n",
       "    <tr style=\"text-align: right;\">\n",
       "      <th></th>\n",
       "      <th>age</th>\n",
       "      <th>job</th>\n",
       "      <th>marital</th>\n",
       "      <th>education_qual</th>\n",
       "      <th>call_type</th>\n",
       "      <th>day</th>\n",
       "      <th>mon</th>\n",
       "      <th>dur</th>\n",
       "      <th>num_calls</th>\n",
       "      <th>prev_outcome</th>\n",
       "      <th>y</th>\n",
       "    </tr>\n",
       "  </thead>\n",
       "  <tbody>\n",
       "    <tr>\n",
       "      <th>42986</th>\n",
       "      <td>54</td>\n",
       "      <td>unknown</td>\n",
       "      <td>married</td>\n",
       "      <td>secondary</td>\n",
       "      <td>cellular</td>\n",
       "      <td>11</td>\n",
       "      <td>feb</td>\n",
       "      <td>449.0</td>\n",
       "      <td>1.0</td>\n",
       "      <td>success</td>\n",
       "      <td>yes</td>\n",
       "    </tr>\n",
       "    <tr>\n",
       "      <th>43694</th>\n",
       "      <td>54</td>\n",
       "      <td>unknown</td>\n",
       "      <td>married</td>\n",
       "      <td>secondary</td>\n",
       "      <td>cellular</td>\n",
       "      <td>13</td>\n",
       "      <td>may</td>\n",
       "      <td>260.0</td>\n",
       "      <td>1.0</td>\n",
       "      <td>success</td>\n",
       "      <td>yes</td>\n",
       "    </tr>\n",
       "    <tr>\n",
       "      <th>44544</th>\n",
       "      <td>55</td>\n",
       "      <td>unknown</td>\n",
       "      <td>married</td>\n",
       "      <td>secondary</td>\n",
       "      <td>cellular</td>\n",
       "      <td>12</td>\n",
       "      <td>aug</td>\n",
       "      <td>265.0</td>\n",
       "      <td>1.0</td>\n",
       "      <td>success</td>\n",
       "      <td>yes</td>\n",
       "    </tr>\n",
       "  </tbody>\n",
       "</table>\n",
       "</div>"
      ],
      "text/plain": [
       "       age      job  marital education_qual call_type  day  mon    dur  \\\n",
       "42986   54  unknown  married      secondary  cellular   11  feb  449.0   \n",
       "43694   54  unknown  married      secondary  cellular   13  may  260.0   \n",
       "44544   55  unknown  married      secondary  cellular   12  aug  265.0   \n",
       "\n",
       "       num_calls prev_outcome    y  \n",
       "42986        1.0      success  yes  \n",
       "43694        1.0      success  yes  \n",
       "44544        1.0      success  yes  "
      ]
     },
     "execution_count": 51,
     "metadata": {},
     "output_type": "execute_result"
    }
   ],
   "source": [
    "df[(df['age']>50)&(df['job']=='unknown')&(df['prev_outcome']=='success')]"
   ]
  },
  {
   "cell_type": "code",
   "execution_count": 52,
   "id": "e16a46b7",
   "metadata": {},
   "outputs": [
    {
     "data": {
      "text/plain": [
       "retired         69\n",
       "admin           35\n",
       "technician      33\n",
       "unemployed      16\n",
       "services        11\n",
       "blue-collar      9\n",
       "management       7\n",
       "housemaid        4\n",
       "entrepreneur     4\n",
       "unknown          3\n",
       "Name: job, dtype: int64"
      ]
     },
     "execution_count": 52,
     "metadata": {},
     "output_type": "execute_result"
    }
   ],
   "source": [
    "df.loc[(df['age']>50)&(df['education_qual']=='secondary')&(df['prev_outcome']=='success')]['job'].value_counts() #majority here is retired"
   ]
  },
  {
   "cell_type": "code",
   "execution_count": 53,
   "id": "2ea46532",
   "metadata": {},
   "outputs": [],
   "source": [
    "df.loc[(df['age']>50)&(df['education_qual']=='secondary')&(df['job']=='unknown')&(df['prev_outcome']=='success'),'job']='retired'"
   ]
  },
  {
   "cell_type": "code",
   "execution_count": 54,
   "id": "56667288",
   "metadata": {
    "scrolled": true
   },
   "outputs": [
    {
     "data": {
      "text/html": [
       "<div>\n",
       "<style scoped>\n",
       "    .dataframe tbody tr th:only-of-type {\n",
       "        vertical-align: middle;\n",
       "    }\n",
       "\n",
       "    .dataframe tbody tr th {\n",
       "        vertical-align: top;\n",
       "    }\n",
       "\n",
       "    .dataframe thead th {\n",
       "        text-align: right;\n",
       "    }\n",
       "</style>\n",
       "<table border=\"1\" class=\"dataframe\">\n",
       "  <thead>\n",
       "    <tr style=\"text-align: right;\">\n",
       "      <th></th>\n",
       "      <th>age</th>\n",
       "      <th>job</th>\n",
       "      <th>marital</th>\n",
       "      <th>education_qual</th>\n",
       "      <th>call_type</th>\n",
       "      <th>day</th>\n",
       "      <th>mon</th>\n",
       "      <th>dur</th>\n",
       "      <th>num_calls</th>\n",
       "      <th>prev_outcome</th>\n",
       "      <th>y</th>\n",
       "    </tr>\n",
       "  </thead>\n",
       "  <tbody>\n",
       "    <tr>\n",
       "      <th>19045</th>\n",
       "      <td>52</td>\n",
       "      <td>unknown</td>\n",
       "      <td>married</td>\n",
       "      <td>unknown</td>\n",
       "      <td>cellular</td>\n",
       "      <td>5</td>\n",
       "      <td>aug</td>\n",
       "      <td>607.0</td>\n",
       "      <td>3.0</td>\n",
       "      <td>unknown</td>\n",
       "      <td>yes</td>\n",
       "    </tr>\n",
       "    <tr>\n",
       "      <th>19062</th>\n",
       "      <td>58</td>\n",
       "      <td>unknown</td>\n",
       "      <td>married</td>\n",
       "      <td>unknown</td>\n",
       "      <td>telephone</td>\n",
       "      <td>5</td>\n",
       "      <td>aug</td>\n",
       "      <td>643.0</td>\n",
       "      <td>4.0</td>\n",
       "      <td>unknown</td>\n",
       "      <td>yes</td>\n",
       "    </tr>\n",
       "    <tr>\n",
       "      <th>22926</th>\n",
       "      <td>60</td>\n",
       "      <td>unknown</td>\n",
       "      <td>married</td>\n",
       "      <td>unknown</td>\n",
       "      <td>cellular</td>\n",
       "      <td>26</td>\n",
       "      <td>aug</td>\n",
       "      <td>643.0</td>\n",
       "      <td>6.0</td>\n",
       "      <td>unknown</td>\n",
       "      <td>yes</td>\n",
       "    </tr>\n",
       "    <tr>\n",
       "      <th>24081</th>\n",
       "      <td>57</td>\n",
       "      <td>unknown</td>\n",
       "      <td>married</td>\n",
       "      <td>unknown</td>\n",
       "      <td>unknown</td>\n",
       "      <td>23</td>\n",
       "      <td>oct</td>\n",
       "      <td>301.0</td>\n",
       "      <td>1.0</td>\n",
       "      <td>unknown</td>\n",
       "      <td>yes</td>\n",
       "    </tr>\n",
       "    <tr>\n",
       "      <th>27443</th>\n",
       "      <td>31</td>\n",
       "      <td>unknown</td>\n",
       "      <td>married</td>\n",
       "      <td>secondary</td>\n",
       "      <td>cellular</td>\n",
       "      <td>21</td>\n",
       "      <td>nov</td>\n",
       "      <td>504.0</td>\n",
       "      <td>2.0</td>\n",
       "      <td>failure</td>\n",
       "      <td>yes</td>\n",
       "    </tr>\n",
       "    <tr>\n",
       "      <th>27823</th>\n",
       "      <td>34</td>\n",
       "      <td>unknown</td>\n",
       "      <td>single</td>\n",
       "      <td>secondary</td>\n",
       "      <td>cellular</td>\n",
       "      <td>28</td>\n",
       "      <td>jan</td>\n",
       "      <td>643.0</td>\n",
       "      <td>1.0</td>\n",
       "      <td>unknown</td>\n",
       "      <td>yes</td>\n",
       "    </tr>\n",
       "    <tr>\n",
       "      <th>27949</th>\n",
       "      <td>28</td>\n",
       "      <td>unknown</td>\n",
       "      <td>single</td>\n",
       "      <td>secondary</td>\n",
       "      <td>cellular</td>\n",
       "      <td>28</td>\n",
       "      <td>jan</td>\n",
       "      <td>643.0</td>\n",
       "      <td>1.0</td>\n",
       "      <td>unknown</td>\n",
       "      <td>yes</td>\n",
       "    </tr>\n",
       "    <tr>\n",
       "      <th>30086</th>\n",
       "      <td>33</td>\n",
       "      <td>unknown</td>\n",
       "      <td>married</td>\n",
       "      <td>secondary</td>\n",
       "      <td>cellular</td>\n",
       "      <td>4</td>\n",
       "      <td>feb</td>\n",
       "      <td>643.0</td>\n",
       "      <td>2.0</td>\n",
       "      <td>failure</td>\n",
       "      <td>yes</td>\n",
       "    </tr>\n",
       "    <tr>\n",
       "      <th>31163</th>\n",
       "      <td>27</td>\n",
       "      <td>unknown</td>\n",
       "      <td>single</td>\n",
       "      <td>secondary</td>\n",
       "      <td>telephone</td>\n",
       "      <td>26</td>\n",
       "      <td>feb</td>\n",
       "      <td>232.0</td>\n",
       "      <td>1.0</td>\n",
       "      <td>failure</td>\n",
       "      <td>yes</td>\n",
       "    </tr>\n",
       "    <tr>\n",
       "      <th>31237</th>\n",
       "      <td>37</td>\n",
       "      <td>unknown</td>\n",
       "      <td>single</td>\n",
       "      <td>tertiary</td>\n",
       "      <td>cellular</td>\n",
       "      <td>3</td>\n",
       "      <td>mar</td>\n",
       "      <td>426.0</td>\n",
       "      <td>1.0</td>\n",
       "      <td>unknown</td>\n",
       "      <td>yes</td>\n",
       "    </tr>\n",
       "    <tr>\n",
       "      <th>31536</th>\n",
       "      <td>58</td>\n",
       "      <td>unknown</td>\n",
       "      <td>married</td>\n",
       "      <td>unknown</td>\n",
       "      <td>cellular</td>\n",
       "      <td>2</td>\n",
       "      <td>apr</td>\n",
       "      <td>268.0</td>\n",
       "      <td>1.0</td>\n",
       "      <td>unknown</td>\n",
       "      <td>yes</td>\n",
       "    </tr>\n",
       "    <tr>\n",
       "      <th>32089</th>\n",
       "      <td>78</td>\n",
       "      <td>unknown</td>\n",
       "      <td>married</td>\n",
       "      <td>unknown</td>\n",
       "      <td>telephone</td>\n",
       "      <td>14</td>\n",
       "      <td>apr</td>\n",
       "      <td>300.0</td>\n",
       "      <td>3.0</td>\n",
       "      <td>unknown</td>\n",
       "      <td>yes</td>\n",
       "    </tr>\n",
       "    <tr>\n",
       "      <th>33720</th>\n",
       "      <td>45</td>\n",
       "      <td>unknown</td>\n",
       "      <td>divorced</td>\n",
       "      <td>unknown</td>\n",
       "      <td>cellular</td>\n",
       "      <td>21</td>\n",
       "      <td>apr</td>\n",
       "      <td>278.0</td>\n",
       "      <td>3.0</td>\n",
       "      <td>unknown</td>\n",
       "      <td>yes</td>\n",
       "    </tr>\n",
       "    <tr>\n",
       "      <th>33736</th>\n",
       "      <td>41</td>\n",
       "      <td>unknown</td>\n",
       "      <td>single</td>\n",
       "      <td>unknown</td>\n",
       "      <td>cellular</td>\n",
       "      <td>22</td>\n",
       "      <td>apr</td>\n",
       "      <td>219.0</td>\n",
       "      <td>1.0</td>\n",
       "      <td>unknown</td>\n",
       "      <td>yes</td>\n",
       "    </tr>\n",
       "    <tr>\n",
       "      <th>33944</th>\n",
       "      <td>47</td>\n",
       "      <td>unknown</td>\n",
       "      <td>married</td>\n",
       "      <td>unknown</td>\n",
       "      <td>cellular</td>\n",
       "      <td>30</td>\n",
       "      <td>apr</td>\n",
       "      <td>643.0</td>\n",
       "      <td>2.0</td>\n",
       "      <td>failure</td>\n",
       "      <td>yes</td>\n",
       "    </tr>\n",
       "    <tr>\n",
       "      <th>40679</th>\n",
       "      <td>65</td>\n",
       "      <td>unknown</td>\n",
       "      <td>married</td>\n",
       "      <td>unknown</td>\n",
       "      <td>telephone</td>\n",
       "      <td>6</td>\n",
       "      <td>aug</td>\n",
       "      <td>256.0</td>\n",
       "      <td>1.0</td>\n",
       "      <td>unknown</td>\n",
       "      <td>yes</td>\n",
       "    </tr>\n",
       "    <tr>\n",
       "      <th>41723</th>\n",
       "      <td>54</td>\n",
       "      <td>unknown</td>\n",
       "      <td>married</td>\n",
       "      <td>unknown</td>\n",
       "      <td>cellular</td>\n",
       "      <td>7</td>\n",
       "      <td>oct</td>\n",
       "      <td>335.0</td>\n",
       "      <td>1.0</td>\n",
       "      <td>unknown</td>\n",
       "      <td>yes</td>\n",
       "    </tr>\n",
       "    <tr>\n",
       "      <th>42243</th>\n",
       "      <td>54</td>\n",
       "      <td>unknown</td>\n",
       "      <td>married</td>\n",
       "      <td>secondary</td>\n",
       "      <td>cellular</td>\n",
       "      <td>12</td>\n",
       "      <td>nov</td>\n",
       "      <td>104.0</td>\n",
       "      <td>1.0</td>\n",
       "      <td>other</td>\n",
       "      <td>yes</td>\n",
       "    </tr>\n",
       "    <tr>\n",
       "      <th>43089</th>\n",
       "      <td>27</td>\n",
       "      <td>unknown</td>\n",
       "      <td>single</td>\n",
       "      <td>unknown</td>\n",
       "      <td>cellular</td>\n",
       "      <td>22</td>\n",
       "      <td>feb</td>\n",
       "      <td>326.0</td>\n",
       "      <td>1.0</td>\n",
       "      <td>unknown</td>\n",
       "      <td>yes</td>\n",
       "    </tr>\n",
       "    <tr>\n",
       "      <th>43653</th>\n",
       "      <td>77</td>\n",
       "      <td>unknown</td>\n",
       "      <td>married</td>\n",
       "      <td>unknown</td>\n",
       "      <td>telephone</td>\n",
       "      <td>7</td>\n",
       "      <td>may</td>\n",
       "      <td>300.0</td>\n",
       "      <td>3.0</td>\n",
       "      <td>unknown</td>\n",
       "      <td>yes</td>\n",
       "    </tr>\n",
       "    <tr>\n",
       "      <th>44120</th>\n",
       "      <td>50</td>\n",
       "      <td>unknown</td>\n",
       "      <td>married</td>\n",
       "      <td>unknown</td>\n",
       "      <td>cellular</td>\n",
       "      <td>9</td>\n",
       "      <td>jul</td>\n",
       "      <td>464.0</td>\n",
       "      <td>1.0</td>\n",
       "      <td>failure</td>\n",
       "      <td>yes</td>\n",
       "    </tr>\n",
       "    <tr>\n",
       "      <th>44651</th>\n",
       "      <td>48</td>\n",
       "      <td>unknown</td>\n",
       "      <td>single</td>\n",
       "      <td>unknown</td>\n",
       "      <td>cellular</td>\n",
       "      <td>2</td>\n",
       "      <td>sep</td>\n",
       "      <td>643.0</td>\n",
       "      <td>1.0</td>\n",
       "      <td>failure</td>\n",
       "      <td>yes</td>\n",
       "    </tr>\n",
       "  </tbody>\n",
       "</table>\n",
       "</div>"
      ],
      "text/plain": [
       "       age      job   marital education_qual  call_type  day  mon    dur  \\\n",
       "19045   52  unknown   married        unknown   cellular    5  aug  607.0   \n",
       "19062   58  unknown   married        unknown  telephone    5  aug  643.0   \n",
       "22926   60  unknown   married        unknown   cellular   26  aug  643.0   \n",
       "24081   57  unknown   married        unknown    unknown   23  oct  301.0   \n",
       "27443   31  unknown   married      secondary   cellular   21  nov  504.0   \n",
       "27823   34  unknown    single      secondary   cellular   28  jan  643.0   \n",
       "27949   28  unknown    single      secondary   cellular   28  jan  643.0   \n",
       "30086   33  unknown   married      secondary   cellular    4  feb  643.0   \n",
       "31163   27  unknown    single      secondary  telephone   26  feb  232.0   \n",
       "31237   37  unknown    single       tertiary   cellular    3  mar  426.0   \n",
       "31536   58  unknown   married        unknown   cellular    2  apr  268.0   \n",
       "32089   78  unknown   married        unknown  telephone   14  apr  300.0   \n",
       "33720   45  unknown  divorced        unknown   cellular   21  apr  278.0   \n",
       "33736   41  unknown    single        unknown   cellular   22  apr  219.0   \n",
       "33944   47  unknown   married        unknown   cellular   30  apr  643.0   \n",
       "40679   65  unknown   married        unknown  telephone    6  aug  256.0   \n",
       "41723   54  unknown   married        unknown   cellular    7  oct  335.0   \n",
       "42243   54  unknown   married      secondary   cellular   12  nov  104.0   \n",
       "43089   27  unknown    single        unknown   cellular   22  feb  326.0   \n",
       "43653   77  unknown   married        unknown  telephone    7  may  300.0   \n",
       "44120   50  unknown   married        unknown   cellular    9  jul  464.0   \n",
       "44651   48  unknown    single        unknown   cellular    2  sep  643.0   \n",
       "\n",
       "       num_calls prev_outcome    y  \n",
       "19045        3.0      unknown  yes  \n",
       "19062        4.0      unknown  yes  \n",
       "22926        6.0      unknown  yes  \n",
       "24081        1.0      unknown  yes  \n",
       "27443        2.0      failure  yes  \n",
       "27823        1.0      unknown  yes  \n",
       "27949        1.0      unknown  yes  \n",
       "30086        2.0      failure  yes  \n",
       "31163        1.0      failure  yes  \n",
       "31237        1.0      unknown  yes  \n",
       "31536        1.0      unknown  yes  \n",
       "32089        3.0      unknown  yes  \n",
       "33720        3.0      unknown  yes  \n",
       "33736        1.0      unknown  yes  \n",
       "33944        2.0      failure  yes  \n",
       "40679        1.0      unknown  yes  \n",
       "41723        1.0      unknown  yes  \n",
       "42243        1.0        other  yes  \n",
       "43089        1.0      unknown  yes  \n",
       "43653        3.0      unknown  yes  \n",
       "44120        1.0      failure  yes  \n",
       "44651        1.0      failure  yes  "
      ]
     },
     "execution_count": 54,
     "metadata": {},
     "output_type": "execute_result"
    }
   ],
   "source": [
    "df[df['job']=='unknown']"
   ]
  },
  {
   "cell_type": "markdown",
   "id": "5281aa84",
   "metadata": {},
   "source": [
    "- we have yet to fill these 22 rows which contain job as unknown"
   ]
  },
  {
   "cell_type": "code",
   "execution_count": 55,
   "id": "b01ce6b6",
   "metadata": {},
   "outputs": [
    {
     "data": {
      "text/plain": [
       "retired          1322\n",
       "management        498\n",
       "blue-collar       366\n",
       "technician        258\n",
       "admin             196\n",
       "housemaid         187\n",
       "services          100\n",
       "entrepreneur       88\n",
       "self-employed      86\n",
       "unemployed         74\n",
       "unknown             7\n",
       "Name: job, dtype: int64"
      ]
     },
     "execution_count": 55,
     "metadata": {},
     "output_type": "execute_result"
    }
   ],
   "source": [
    "df[(df['age']>56)&(df['marital']=='married')]['job'].value_counts()"
   ]
  },
  {
   "cell_type": "code",
   "execution_count": 56,
   "id": "b723629c",
   "metadata": {},
   "outputs": [],
   "source": [
    "df.loc[((df['age']>56)&(df['marital']=='married')&(df['job']=='unknown')),'job']='retired'"
   ]
  },
  {
   "cell_type": "markdown",
   "id": "863f5ba2",
   "metadata": {},
   "source": [
    "Till here we could impute unknown values of job by comparing with other rows which have similar values in remaining columns"
   ]
  },
  {
   "cell_type": "code",
   "execution_count": 57,
   "id": "a278e72e",
   "metadata": {},
   "outputs": [
    {
     "data": {
      "text/plain": [
       "blue-collar      9731\n",
       "management       9461\n",
       "technician       7593\n",
       "admin            5170\n",
       "services         4152\n",
       "retired          2273\n",
       "self-employed    1579\n",
       "entrepreneur     1487\n",
       "unemployed       1303\n",
       "housemaid        1240\n",
       "student           937\n",
       "unknown            15\n",
       "Name: job, dtype: int64"
      ]
     },
     "execution_count": 57,
     "metadata": {},
     "output_type": "execute_result"
    }
   ],
   "source": [
    "df['job'].value_counts()"
   ]
  },
  {
   "cell_type": "code",
   "execution_count": 58,
   "id": "3cbda74c",
   "metadata": {},
   "outputs": [],
   "source": [
    "df['job']=df['job'].replace(\"unknown\",'blue-collar')  #replace unknown values with MODE value."
   ]
  },
  {
   "cell_type": "markdown",
   "id": "eeb22c24",
   "metadata": {},
   "source": [
    "### Data Engineering of unknown 'education_qual' values"
   ]
  },
  {
   "cell_type": "code",
   "execution_count": 59,
   "id": "1c12e62d",
   "metadata": {},
   "outputs": [
    {
     "data": {
      "text/plain": [
       "secondary    23130\n",
       "tertiary     13261\n",
       "primary       6802\n",
       "unknown       1748\n",
       "Name: education_qual, dtype: int64"
      ]
     },
     "execution_count": 59,
     "metadata": {},
     "output_type": "execute_result"
    }
   ],
   "source": [
    "df['education_qual'].value_counts()"
   ]
  },
  {
   "cell_type": "code",
   "execution_count": 60,
   "id": "b0d2dad3",
   "metadata": {},
   "outputs": [],
   "source": [
    "df=df[~((df['education_qual']=='unknown')&(df['y']=='no'))] #get rid rows who's outcome is no and education quality is unknown."
   ]
  },
  {
   "cell_type": "code",
   "execution_count": 61,
   "id": "72b3a868",
   "metadata": {},
   "outputs": [
    {
     "data": {
      "text/plain": [
       "secondary    23130\n",
       "tertiary     13261\n",
       "primary       6802\n",
       "unknown        252\n",
       "Name: education_qual, dtype: int64"
      ]
     },
     "execution_count": 61,
     "metadata": {},
     "output_type": "execute_result"
    }
   ],
   "source": [
    "df['education_qual'].value_counts()"
   ]
  },
  {
   "cell_type": "code",
   "execution_count": 62,
   "id": "2cc84afb",
   "metadata": {},
   "outputs": [
    {
     "data": {
      "text/plain": [
       "cellular     192\n",
       "telephone     39\n",
       "unknown       21\n",
       "Name: call_type, dtype: int64"
      ]
     },
     "execution_count": 62,
     "metadata": {},
     "output_type": "execute_result"
    }
   ],
   "source": [
    "df[(df['education_qual']=='unknown')]['call_type'].value_counts()"
   ]
  },
  {
   "cell_type": "code",
   "execution_count": 63,
   "id": "fa04f984",
   "metadata": {},
   "outputs": [
    {
     "data": {
      "text/plain": [
       "retired          37\n",
       "management       23\n",
       "admin             9\n",
       "blue-collar       8\n",
       "housemaid         4\n",
       "services          3\n",
       "self-employed     3\n",
       "entrepreneur      2\n",
       "technician        2\n",
       "Name: job, dtype: int64"
      ]
     },
     "execution_count": 63,
     "metadata": {},
     "output_type": "execute_result"
    }
   ],
   "source": [
    "df[(df['education_qual']=='unknown')&(df['age']>50)]['job'].value_counts()"
   ]
  },
  {
   "cell_type": "code",
   "execution_count": 64,
   "id": "fc91bda5",
   "metadata": {},
   "outputs": [
    {
     "data": {
      "text/html": [
       "<div>\n",
       "<style scoped>\n",
       "    .dataframe tbody tr th:only-of-type {\n",
       "        vertical-align: middle;\n",
       "    }\n",
       "\n",
       "    .dataframe tbody tr th {\n",
       "        vertical-align: top;\n",
       "    }\n",
       "\n",
       "    .dataframe thead th {\n",
       "        text-align: right;\n",
       "    }\n",
       "</style>\n",
       "<table border=\"1\" class=\"dataframe\">\n",
       "  <thead>\n",
       "    <tr style=\"text-align: right;\">\n",
       "      <th></th>\n",
       "      <th>age</th>\n",
       "      <th>job</th>\n",
       "      <th>marital</th>\n",
       "      <th>education_qual</th>\n",
       "      <th>call_type</th>\n",
       "      <th>day</th>\n",
       "      <th>mon</th>\n",
       "      <th>dur</th>\n",
       "      <th>num_calls</th>\n",
       "      <th>prev_outcome</th>\n",
       "      <th>y</th>\n",
       "    </tr>\n",
       "  </thead>\n",
       "  <tbody>\n",
       "    <tr>\n",
       "      <th>8</th>\n",
       "      <td>58</td>\n",
       "      <td>retired</td>\n",
       "      <td>married</td>\n",
       "      <td>primary</td>\n",
       "      <td>unknown</td>\n",
       "      <td>5</td>\n",
       "      <td>may</td>\n",
       "      <td>50.0</td>\n",
       "      <td>1.0</td>\n",
       "      <td>unknown</td>\n",
       "      <td>no</td>\n",
       "    </tr>\n",
       "    <tr>\n",
       "      <th>15</th>\n",
       "      <td>51</td>\n",
       "      <td>retired</td>\n",
       "      <td>married</td>\n",
       "      <td>primary</td>\n",
       "      <td>unknown</td>\n",
       "      <td>5</td>\n",
       "      <td>may</td>\n",
       "      <td>353.0</td>\n",
       "      <td>1.0</td>\n",
       "      <td>unknown</td>\n",
       "      <td>no</td>\n",
       "    </tr>\n",
       "    <tr>\n",
       "      <th>18</th>\n",
       "      <td>60</td>\n",
       "      <td>retired</td>\n",
       "      <td>married</td>\n",
       "      <td>primary</td>\n",
       "      <td>unknown</td>\n",
       "      <td>5</td>\n",
       "      <td>may</td>\n",
       "      <td>219.0</td>\n",
       "      <td>1.0</td>\n",
       "      <td>unknown</td>\n",
       "      <td>no</td>\n",
       "    </tr>\n",
       "    <tr>\n",
       "      <th>24</th>\n",
       "      <td>40</td>\n",
       "      <td>retired</td>\n",
       "      <td>married</td>\n",
       "      <td>primary</td>\n",
       "      <td>unknown</td>\n",
       "      <td>5</td>\n",
       "      <td>may</td>\n",
       "      <td>181.0</td>\n",
       "      <td>1.0</td>\n",
       "      <td>unknown</td>\n",
       "      <td>no</td>\n",
       "    </tr>\n",
       "    <tr>\n",
       "      <th>43</th>\n",
       "      <td>54</td>\n",
       "      <td>retired</td>\n",
       "      <td>married</td>\n",
       "      <td>secondary</td>\n",
       "      <td>unknown</td>\n",
       "      <td>5</td>\n",
       "      <td>may</td>\n",
       "      <td>643.0</td>\n",
       "      <td>1.0</td>\n",
       "      <td>unknown</td>\n",
       "      <td>no</td>\n",
       "    </tr>\n",
       "    <tr>\n",
       "      <th>...</th>\n",
       "      <td>...</td>\n",
       "      <td>...</td>\n",
       "      <td>...</td>\n",
       "      <td>...</td>\n",
       "      <td>...</td>\n",
       "      <td>...</td>\n",
       "      <td>...</td>\n",
       "      <td>...</td>\n",
       "      <td>...</td>\n",
       "      <td>...</td>\n",
       "      <td>...</td>\n",
       "    </tr>\n",
       "    <tr>\n",
       "      <th>45191</th>\n",
       "      <td>75</td>\n",
       "      <td>retired</td>\n",
       "      <td>divorced</td>\n",
       "      <td>tertiary</td>\n",
       "      <td>cellular</td>\n",
       "      <td>16</td>\n",
       "      <td>nov</td>\n",
       "      <td>262.0</td>\n",
       "      <td>1.0</td>\n",
       "      <td>failure</td>\n",
       "      <td>yes</td>\n",
       "    </tr>\n",
       "    <tr>\n",
       "      <th>45195</th>\n",
       "      <td>68</td>\n",
       "      <td>retired</td>\n",
       "      <td>married</td>\n",
       "      <td>secondary</td>\n",
       "      <td>cellular</td>\n",
       "      <td>16</td>\n",
       "      <td>nov</td>\n",
       "      <td>212.0</td>\n",
       "      <td>1.0</td>\n",
       "      <td>success</td>\n",
       "      <td>yes</td>\n",
       "    </tr>\n",
       "    <tr>\n",
       "      <th>45204</th>\n",
       "      <td>73</td>\n",
       "      <td>retired</td>\n",
       "      <td>married</td>\n",
       "      <td>secondary</td>\n",
       "      <td>cellular</td>\n",
       "      <td>17</td>\n",
       "      <td>nov</td>\n",
       "      <td>300.0</td>\n",
       "      <td>1.0</td>\n",
       "      <td>failure</td>\n",
       "      <td>yes</td>\n",
       "    </tr>\n",
       "    <tr>\n",
       "      <th>45207</th>\n",
       "      <td>71</td>\n",
       "      <td>retired</td>\n",
       "      <td>divorced</td>\n",
       "      <td>primary</td>\n",
       "      <td>cellular</td>\n",
       "      <td>17</td>\n",
       "      <td>nov</td>\n",
       "      <td>456.0</td>\n",
       "      <td>2.0</td>\n",
       "      <td>unknown</td>\n",
       "      <td>yes</td>\n",
       "    </tr>\n",
       "    <tr>\n",
       "      <th>45208</th>\n",
       "      <td>72</td>\n",
       "      <td>retired</td>\n",
       "      <td>married</td>\n",
       "      <td>secondary</td>\n",
       "      <td>cellular</td>\n",
       "      <td>17</td>\n",
       "      <td>nov</td>\n",
       "      <td>643.0</td>\n",
       "      <td>5.0</td>\n",
       "      <td>success</td>\n",
       "      <td>yes</td>\n",
       "    </tr>\n",
       "  </tbody>\n",
       "</table>\n",
       "<p>2184 rows × 11 columns</p>\n",
       "</div>"
      ],
      "text/plain": [
       "       age      job   marital education_qual call_type  day  mon    dur  \\\n",
       "8       58  retired   married        primary   unknown    5  may   50.0   \n",
       "15      51  retired   married        primary   unknown    5  may  353.0   \n",
       "18      60  retired   married        primary   unknown    5  may  219.0   \n",
       "24      40  retired   married        primary   unknown    5  may  181.0   \n",
       "43      54  retired   married      secondary   unknown    5  may  643.0   \n",
       "...    ...      ...       ...            ...       ...  ...  ...    ...   \n",
       "45191   75  retired  divorced       tertiary  cellular   16  nov  262.0   \n",
       "45195   68  retired   married      secondary  cellular   16  nov  212.0   \n",
       "45204   73  retired   married      secondary  cellular   17  nov  300.0   \n",
       "45207   71  retired  divorced        primary  cellular   17  nov  456.0   \n",
       "45208   72  retired   married      secondary  cellular   17  nov  643.0   \n",
       "\n",
       "       num_calls prev_outcome    y  \n",
       "8            1.0      unknown   no  \n",
       "15           1.0      unknown   no  \n",
       "18           1.0      unknown   no  \n",
       "24           1.0      unknown   no  \n",
       "43           1.0      unknown   no  \n",
       "...          ...          ...  ...  \n",
       "45191        1.0      failure  yes  \n",
       "45195        1.0      success  yes  \n",
       "45204        1.0      failure  yes  \n",
       "45207        2.0      unknown  yes  \n",
       "45208        5.0      success  yes  \n",
       "\n",
       "[2184 rows x 11 columns]"
      ]
     },
     "execution_count": 64,
     "metadata": {},
     "output_type": "execute_result"
    }
   ],
   "source": [
    "df[df['job']=='retired']"
   ]
  },
  {
   "cell_type": "code",
   "execution_count": 65,
   "id": "9457cee3",
   "metadata": {},
   "outputs": [
    {
     "data": {
      "text/plain": [
       "management       22\n",
       "technician        8\n",
       "retired           8\n",
       "student           7\n",
       "blue-collar       3\n",
       "services          3\n",
       "admin             3\n",
       "self-employed     1\n",
       "Name: job, dtype: int64"
      ]
     },
     "execution_count": 65,
     "metadata": {},
     "output_type": "execute_result"
    }
   ],
   "source": [
    "df[(df['education_qual']=='unknown')&(df['prev_outcome']=='success')]['job'].value_counts()"
   ]
  },
  {
   "cell_type": "code",
   "execution_count": 66,
   "id": "b074f292",
   "metadata": {},
   "outputs": [
    {
     "data": {
      "text/plain": [
       "tertiary     339\n",
       "unknown       22\n",
       "secondary     20\n",
       "primary        7\n",
       "Name: education_qual, dtype: int64"
      ]
     },
     "execution_count": 66,
     "metadata": {},
     "output_type": "execute_result"
    }
   ],
   "source": [
    "df[(df['job']=='management')&(df['prev_outcome']=='success')]['education_qual'].value_counts()"
   ]
  },
  {
   "cell_type": "code",
   "execution_count": 67,
   "id": "2f539935",
   "metadata": {},
   "outputs": [],
   "source": [
    "df.loc[((df['education_qual']=='unknown')&(df['prev_outcome']=='success')&(df['job']=='management')),'education_qual']='tertiary'"
   ]
  },
  {
   "cell_type": "code",
   "execution_count": 68,
   "id": "c92adf82",
   "metadata": {},
   "outputs": [
    {
     "data": {
      "text/plain": [
       "student       27\n",
       "services       2\n",
       "admin          1\n",
       "management     1\n",
       "technician     1\n",
       "Name: job, dtype: int64"
      ]
     },
     "execution_count": 68,
     "metadata": {},
     "output_type": "execute_result"
    }
   ],
   "source": [
    "df.loc[(df['education_qual']=='unknown')&(df['age'].between(18,25))]['job'].value_counts() # here majority people are students"
   ]
  },
  {
   "cell_type": "code",
   "execution_count": 69,
   "id": "92a5fa6a",
   "metadata": {},
   "outputs": [
    {
     "data": {
      "text/plain": [
       "secondary    255\n",
       "tertiary      49\n",
       "primary       36\n",
       "unknown       27\n",
       "Name: education_qual, dtype: int64"
      ]
     },
     "execution_count": 69,
     "metadata": {},
     "output_type": "execute_result"
    }
   ],
   "source": [
    "df[(df['job']=='student')&(df['age'].between(18,25))]['education_qual'].value_counts() #majority student' education is secondary"
   ]
  },
  {
   "cell_type": "code",
   "execution_count": 70,
   "id": "06ef9428",
   "metadata": {},
   "outputs": [],
   "source": [
    "df.loc[((df['age'].between(18,25))&(df['job']=='student')&(df['education_qual']=='unknown')),'education_qual']='secondary'"
   ]
  },
  {
   "cell_type": "code",
   "execution_count": 71,
   "id": "fc619021",
   "metadata": {},
   "outputs": [
    {
     "data": {
      "text/plain": [
       "secondary    23157\n",
       "tertiary     13283\n",
       "primary       6802\n",
       "unknown        203\n",
       "Name: education_qual, dtype: int64"
      ]
     },
     "execution_count": 71,
     "metadata": {},
     "output_type": "execute_result"
    }
   ],
   "source": [
    "df['education_qual'].value_counts()"
   ]
  },
  {
   "cell_type": "code",
   "execution_count": 72,
   "id": "3853e13b",
   "metadata": {},
   "outputs": [
    {
     "data": {
      "text/plain": [
       "single      31\n",
       "married     10\n",
       "divorced     3\n",
       "Name: marital, dtype: int64"
      ]
     },
     "execution_count": 72,
     "metadata": {},
     "output_type": "execute_result"
    }
   ],
   "source": [
    "df.loc[(df['education_qual']=='unknown')&(df['age'].between(25,35))]['marital'].value_counts()"
   ]
  },
  {
   "cell_type": "code",
   "execution_count": 73,
   "id": "5458d1b5",
   "metadata": {},
   "outputs": [
    {
     "data": {
      "text/plain": [
       "secondary    4145\n",
       "tertiary     3313\n",
       "primary       372\n",
       "unknown        31\n",
       "Name: education_qual, dtype: int64"
      ]
     },
     "execution_count": 73,
     "metadata": {},
     "output_type": "execute_result"
    }
   ],
   "source": [
    "df.loc[(df['marital']=='single')&(df['age'].between(25,35))]['education_qual'].value_counts()"
   ]
  },
  {
   "cell_type": "code",
   "execution_count": 74,
   "id": "da1c45c0",
   "metadata": {},
   "outputs": [
    {
     "data": {
      "text/plain": [
       "secondary    556\n",
       "tertiary     245\n",
       "primary       66\n",
       "unknown        3\n",
       "Name: education_qual, dtype: int64"
      ]
     },
     "execution_count": 74,
     "metadata": {},
     "output_type": "execute_result"
    }
   ],
   "source": [
    "df.loc[(df['marital']=='divorced')&(df['age'].between(25,35))]['education_qual'].value_counts() #majority education is secondary"
   ]
  },
  {
   "cell_type": "code",
   "execution_count": 75,
   "id": "f10a6cd7",
   "metadata": {},
   "outputs": [],
   "source": [
    "df.loc[((df['age'].between(25,35))&(df['marital']=='single')&(df['education_qual']=='unknown')),'education_qual']='secondary'"
   ]
  },
  {
   "cell_type": "code",
   "execution_count": 76,
   "id": "f3e42f25",
   "metadata": {},
   "outputs": [],
   "source": [
    "df.loc[((df['age'].between(25,35))&(df['education_qual']=='unknown')),'education_qual']='secondary'"
   ]
  },
  {
   "cell_type": "code",
   "execution_count": 77,
   "id": "508031df",
   "metadata": {},
   "outputs": [
    {
     "data": {
      "text/plain": [
       "159"
      ]
     },
     "execution_count": 77,
     "metadata": {},
     "output_type": "execute_result"
    }
   ],
   "source": [
    "df[df['education_qual']=='unknown'].shape[0]"
   ]
  },
  {
   "cell_type": "code",
   "execution_count": 78,
   "id": "e0abf700",
   "metadata": {},
   "outputs": [
    {
     "data": {
      "text/plain": [
       "retired          37\n",
       "management       12\n",
       "admin             9\n",
       "blue-collar       8\n",
       "housemaid         4\n",
       "services          3\n",
       "self-employed     3\n",
       "entrepreneur      2\n",
       "technician        2\n",
       "Name: job, dtype: int64"
      ]
     },
     "execution_count": 78,
     "metadata": {},
     "output_type": "execute_result"
    }
   ],
   "source": [
    "df.loc[(df['education_qual']=='unknown')&(df['age']>50)]['job'].value_counts()"
   ]
  },
  {
   "cell_type": "code",
   "execution_count": 79,
   "id": "2f6dc73f",
   "metadata": {},
   "outputs": [
    {
     "data": {
      "text/plain": [
       "secondary    72\n",
       "primary      60\n",
       "tertiary     35\n",
       "unknown       8\n",
       "Name: education_qual, dtype: int64"
      ]
     },
     "execution_count": 79,
     "metadata": {},
     "output_type": "execute_result"
    }
   ],
   "source": [
    "df.loc[(df['job']=='retired')&(df['age']>50)&(df['prev_outcome']=='success')]['education_qual'].value_counts()"
   ]
  },
  {
   "cell_type": "code",
   "execution_count": 80,
   "id": "04526890",
   "metadata": {},
   "outputs": [
    {
     "data": {
      "text/plain": [
       "married     48\n",
       "divorced    12\n",
       "Name: marital, dtype: int64"
      ]
     },
     "execution_count": 80,
     "metadata": {},
     "output_type": "execute_result"
    }
   ],
   "source": [
    "df.loc[(df['job']=='retired')&(df['age']>50)&(df['prev_outcome']=='success')&(df['education_qual']=='primary')]['marital'].value_counts()"
   ]
  },
  {
   "cell_type": "code",
   "execution_count": 81,
   "id": "c7944791",
   "metadata": {},
   "outputs": [],
   "source": [
    "df.loc[((df['education_qual']=='unknown')&(df['age']>50)&(df['job']=='retired')&(df['prev_outcome']=='success')&(df['marital']=='married')),'education_qual']='primary'"
   ]
  },
  {
   "cell_type": "code",
   "execution_count": 82,
   "id": "c852942b",
   "metadata": {},
   "outputs": [
    {
     "data": {
      "text/plain": [
       "married     51\n",
       "divorced    10\n",
       "Name: marital, dtype: int64"
      ]
     },
     "execution_count": 82,
     "metadata": {},
     "output_type": "execute_result"
    }
   ],
   "source": [
    "df.loc[(df['job']=='retired')&(df['age']>50)&(df['prev_outcome']=='failure')&(df['education_qual']=='primary')]['marital'].value_counts()"
   ]
  },
  {
   "cell_type": "code",
   "execution_count": 83,
   "id": "e4fd4540",
   "metadata": {},
   "outputs": [],
   "source": [
    "df.loc[((df['education_qual']=='unknown')&(df['age']>50)&(df['job']=='retired')&(df['prev_outcome']=='failure')&(df['marital']=='married')),'education_qual']='primary'"
   ]
  },
  {
   "cell_type": "code",
   "execution_count": 84,
   "id": "68b95a92",
   "metadata": {},
   "outputs": [
    {
     "data": {
      "text/plain": [
       "married     27\n",
       "divorced     5\n",
       "single       3\n",
       "Name: marital, dtype: int64"
      ]
     },
     "execution_count": 84,
     "metadata": {},
     "output_type": "execute_result"
    }
   ],
   "source": [
    "df.loc[(df['job']=='retired')&(df['age']>50)&(df['prev_outcome']=='success')&(df['education_qual']=='tertiary')]['marital'].value_counts()"
   ]
  },
  {
   "cell_type": "code",
   "execution_count": 85,
   "id": "af37e058",
   "metadata": {},
   "outputs": [
    {
     "data": {
      "text/plain": [
       "management       7823\n",
       "technician       1967\n",
       "self-employed     833\n",
       "entrepreneur      686\n",
       "admin             572\n",
       "retired           366\n",
       "unemployed        289\n",
       "student           222\n",
       "services          202\n",
       "housemaid         173\n",
       "blue-collar       150\n",
       "Name: job, dtype: int64"
      ]
     },
     "execution_count": 85,
     "metadata": {},
     "output_type": "execute_result"
    }
   ],
   "source": [
    "df[df['education_qual']=='tertiary']['job'].value_counts()"
   ]
  },
  {
   "cell_type": "code",
   "execution_count": 86,
   "id": "aa7dcbae",
   "metadata": {},
   "outputs": [],
   "source": [
    "df.loc[((df['education_qual']=='unknown')&(df['job']=='management')),'education_qual']='tertiary'"
   ]
  },
  {
   "cell_type": "code",
   "execution_count": 87,
   "id": "3d8a1fef",
   "metadata": {},
   "outputs": [
    {
     "data": {
      "text/plain": [
       "secondary    23201\n",
       "tertiary     13308\n",
       "primary       6813\n",
       "unknown        123\n",
       "Name: education_qual, dtype: int64"
      ]
     },
     "execution_count": 87,
     "metadata": {},
     "output_type": "execute_result"
    }
   ],
   "source": [
    "df['education_qual'].value_counts()"
   ]
  },
  {
   "cell_type": "markdown",
   "id": "b6f3c4cd",
   "metadata": {},
   "source": [
    "Till here we could impute unknown values of education_qual by comparing with other rows which have similar values in remaining columns"
   ]
  },
  {
   "cell_type": "code",
   "execution_count": 88,
   "id": "d01d6f68",
   "metadata": {},
   "outputs": [],
   "source": [
    "df['education_qual']=df['education_qual'].replace(\"unknown\",'secondary')  #replace unknown values with MODE value."
   ]
  },
  {
   "cell_type": "markdown",
   "id": "43e1dc9a",
   "metadata": {},
   "source": [
    "### call_type data engineering"
   ]
  },
  {
   "cell_type": "markdown",
   "id": "a97c5102",
   "metadata": {},
   "source": [
    "28.8% of data is unknown.Imputation doesn't make any sense"
   ]
  },
  {
   "cell_type": "code",
   "execution_count": 89,
   "id": "298c316a",
   "metadata": {},
   "outputs": [],
   "source": [
    "df['Target']=df['y'].map({'yes':1,'no':0})"
   ]
  },
  {
   "cell_type": "code",
   "execution_count": 90,
   "id": "081d65af",
   "metadata": {},
   "outputs": [
    {
     "data": {
      "text/plain": [
       "call_type\n",
       "cellular     0.153743\n",
       "telephone    0.142648\n",
       "unknown      0.043008\n",
       "Name: Target, dtype: float64"
      ]
     },
     "execution_count": 90,
     "metadata": {},
     "output_type": "execute_result"
    }
   ],
   "source": [
    "df.groupby('call_type')['Target'].mean()"
   ]
  },
  {
   "cell_type": "markdown",
   "id": "160499e6",
   "metadata": {},
   "source": [
    "### prev_outcome data engineering"
   ]
  },
  {
   "cell_type": "markdown",
   "id": "1a053deb",
   "metadata": {},
   "source": [
    "81% of data is unknown.Imputation doesn't make any sense"
   ]
  },
  {
   "cell_type": "code",
   "execution_count": 91,
   "id": "388a06a1",
   "metadata": {},
   "outputs": [
    {
     "data": {
      "text/plain": [
       "unknown    35432\n",
       "failure     4740\n",
       "other       1788\n",
       "success     1485\n",
       "Name: prev_outcome, dtype: int64"
      ]
     },
     "execution_count": 91,
     "metadata": {},
     "output_type": "execute_result"
    }
   ],
   "source": [
    "df['prev_outcome'].value_counts()"
   ]
  },
  {
   "cell_type": "code",
   "execution_count": 92,
   "id": "a91575c6",
   "metadata": {},
   "outputs": [
    {
     "data": {
      "text/plain": [
       "prev_outcome\n",
       "failure    0.130380\n",
       "other      0.171700\n",
       "success    0.658586\n",
       "unknown    0.095507\n",
       "Name: Target, dtype: float64"
      ]
     },
     "execution_count": 92,
     "metadata": {},
     "output_type": "execute_result"
    }
   ],
   "source": [
    "df.groupby('prev_outcome')['Target'].mean()"
   ]
  },
  {
   "cell_type": "markdown",
   "id": "91802634",
   "metadata": {},
   "source": [
    "# EDA"
   ]
  },
  {
   "cell_type": "markdown",
   "id": "4fc4bf02",
   "metadata": {},
   "source": [
    "#### age"
   ]
  },
  {
   "cell_type": "code",
   "execution_count": 93,
   "id": "bd0ff268",
   "metadata": {},
   "outputs": [
    {
     "data": {
      "image/png": "[encoded data removed]",
      "text/plain": [
       "<Figure size 640x480 with 1 Axes>"
      ]
     },
     "metadata": {},
     "output_type": "display_data"
    }
   ],
   "source": [
    "sns.histplot(df,x=\"age\",kde = True);\n",
    "plt.show()"
   ]
  },
  {
   "cell_type": "code",
   "execution_count": 94,
   "id": "023441d4",
   "metadata": {},
   "outputs": [
    {
     "data": {
      "image/png": "[encoded data removed]",
      "text/plain": [
       "<Figure size 640x480 with 1 Axes>"
      ]
     },
     "metadata": {},
     "output_type": "display_data"
    }
   ],
   "source": [
    "sns.boxplot(data=df,x='y',y='age');"
   ]
  },
  {
   "cell_type": "markdown",
   "id": "4740cbb4",
   "metadata": {},
   "source": [
    "Conclusion:\n",
    "- From Histogram we can tell more contact has been made with people of age between 30 and 45. \n",
    "- From Box plot we concluded that People whose are in middle age(more than 47 year old) old or too young(less than 27 year old) are opted for insurance. \n",
    "- So we recommend that in the future we must target very young people and very old for insurance as they are more likely to buy the insurance"
   ]
  },
  {
   "cell_type": "markdown",
   "id": "04cd6b69",
   "metadata": {},
   "source": [
    "#### Job"
   ]
  },
  {
   "cell_type": "code",
   "execution_count": 95,
   "id": "c49ff4cd",
   "metadata": {},
   "outputs": [
    {
     "data": {
      "image/png": "[encoded data removed]",
      "text/plain": [
       "<Figure size 640x480 with 1 Axes>"
      ]
     },
     "metadata": {},
     "output_type": "display_data"
    }
   ],
   "source": [
    "df01=df.groupby([\"job\"])[\"job\"].count().to_frame()\n",
    "df01.rename(columns={\"job\":'count'},inplace=True)\n",
    "df01=df01.sort_values(by=\"count\").reset_index()\n",
    "ax=sns.barplot(data=df01,x=\"job\",y=\"count\")\n",
    "ax.tick_params(axis='x',rotation=90)\n",
    "ax.set_title('Distribution of Job of Potential Customers');"
   ]
  },
  {
   "cell_type": "code",
   "execution_count": 96,
   "id": "e0c15239",
   "metadata": {},
   "outputs": [
    {
     "data": {
      "image/png": "[encoded data removed]",
      "text/plain": [
       "<Figure size 640x480 with 1 Axes>"
      ]
     },
     "metadata": {},
     "output_type": "display_data"
    }
   ],
   "source": [
    "(df.groupby(\"job\")['Target'].mean()*100).sort_values().plot(kind='barh');\n",
    "plt.title('Percentage of People who opted Insurance based on their job');"
   ]
  },
  {
   "cell_type": "markdown",
   "id": "5175d0c3",
   "metadata": {},
   "source": [
    "Conclusion:\n",
    "- From Barplot we can tell more contact has been made with people of who are blue-collor worker and people with job of management,technician,admin. less contact has been made with housemaids,umemployed people\n",
    "- From 2nd plot we concluded that it's the student ,retired, unemployed , managenent who usually opt for insurance and blue-collar people least likely to opt for insurance.\n",
    "- So we recommend that in the future we must not focus on blue-colloar people , should focus on retired,students."
   ]
  },
  {
   "cell_type": "markdown",
   "id": "b29b4de0",
   "metadata": {},
   "source": [
    "#### marital"
   ]
  },
  {
   "cell_type": "code",
   "execution_count": 97,
   "id": "d7496079",
   "metadata": {},
   "outputs": [
    {
     "data": {
      "image/png": "[encoded data removed]",
      "text/plain": [
       "<Figure size 640x480 with 1 Axes>"
      ]
     },
     "metadata": {},
     "output_type": "display_data"
    }
   ],
   "source": [
    "df['marital'].value_counts().plot(kind='bar');"
   ]
  },
  {
   "cell_type": "code",
   "execution_count": 98,
   "id": "552f465b",
   "metadata": {},
   "outputs": [
    {
     "data": {
      "image/png": "[encoded data removed]",
      "text/plain": [
       "<Figure size 640x480 with 1 Axes>"
      ]
     },
     "metadata": {},
     "output_type": "display_data"
    }
   ],
   "source": [
    "(df.groupby(\"marital\")['Target'].mean()*100).sort_values().plot(kind='barh');\n",
    "plt.title('Percentage of People who opted Insurance based on their marital status');"
   ]
  },
  {
   "cell_type": "markdown",
   "id": "a8601d79",
   "metadata": {},
   "source": [
    "Conclusion:\n",
    "  - we see that Single people who is most likely to opt for insurance and married people are less likely to opt for insurance (Second plot). \n",
    "  - But maximum call has been made to married people (First plot).\n",
    "  - Our common general assumption that married people  will buy insurance since they might have dependency is wrong.\n",
    "  - Single People opt for insurance that could be because low premium and they are most likely they buy insurance at their young age.\n",
    "  - So we need to focus on people who are not married"
   ]
  },
  {
   "cell_type": "code",
   "execution_count": 99,
   "id": "fdad83ed",
   "metadata": {},
   "outputs": [
    {
     "data": {
      "text/plain": [
       "Index(['age', 'job', 'marital', 'education_qual', 'call_type', 'day', 'mon',\n",
       "       'dur', 'num_calls', 'prev_outcome', 'y', 'Target'],\n",
       "      dtype='object')"
      ]
     },
     "execution_count": 99,
     "metadata": {},
     "output_type": "execute_result"
    }
   ],
   "source": [
    "df.columns"
   ]
  },
  {
   "cell_type": "markdown",
   "id": "c6f31f72",
   "metadata": {},
   "source": [
    "### education_qual"
   ]
  },
  {
   "cell_type": "code",
   "execution_count": 100,
   "id": "85ae5bb2",
   "metadata": {},
   "outputs": [
    {
     "data": {
      "image/png": "[encoded data removed]",
      "text/plain": [
       "<Figure size 640x480 with 1 Axes>"
      ]
     },
     "metadata": {},
     "output_type": "display_data"
    }
   ],
   "source": [
    "df['education_qual'].value_counts().plot(kind='bar');"
   ]
  },
  {
   "cell_type": "code",
   "execution_count": 101,
   "id": "1d595b6d",
   "metadata": {},
   "outputs": [
    {
     "data": {
      "image/png": "[encoded data removed]",
      "text/plain": [
       "<Figure size 640x480 with 1 Axes>"
      ]
     },
     "metadata": {},
     "output_type": "display_data"
    }
   ],
   "source": [
    "(df.groupby(\"education_qual\")['Target'].mean()*100).sort_values().plot(kind='barh');\n",
    "plt.title('Percentage of People who opted Insurance based on their education qualification');"
   ]
  },
  {
   "cell_type": "markdown",
   "id": "5b18ba5b",
   "metadata": {},
   "source": [
    "Conclusion:\n",
    "\n",
    "- we see that People with teritary education (highest education) who is most likely to opt for insurance and People with primary education are less likely to opt for insurance  (Second plot).\n",
    "- But maximum call has been made to People with secondary education (First plot).\n",
    "- Our common general assumption that People with primary education is least likely to buy insurance is right.\n",
    "- People with teritary education opt for insurance that could be because of high pay job.\n",
    "- So we need to focus on people People with teritary education."
   ]
  },
  {
   "cell_type": "markdown",
   "id": "c55489c8",
   "metadata": {},
   "source": [
    "### call_type"
   ]
  },
  {
   "cell_type": "code",
   "execution_count": 102,
   "id": "281ab1a2",
   "metadata": {},
   "outputs": [
    {
     "data": {
      "image/png": "[encoded data removed]",
      "text/plain": [
       "<Figure size 640x480 with 1 Axes>"
      ]
     },
     "metadata": {},
     "output_type": "display_data"
    }
   ],
   "source": [
    "df['call_type'].value_counts().plot(kind='bar');"
   ]
  },
  {
   "cell_type": "code",
   "execution_count": 103,
   "id": "5575ddb8",
   "metadata": {},
   "outputs": [
    {
     "data": {
      "image/png": "[encoded data removed]",
      "text/plain": [
       "<Figure size 640x480 with 1 Axes>"
      ]
     },
     "metadata": {},
     "output_type": "display_data"
    }
   ],
   "source": [
    "(df.groupby(\"call_type\")['Target'].mean()*100).sort_values().plot(kind='barh');\n",
    "plt.title('Percentage of People who opted Insurance based on their call type');"
   ]
  },
  {
   "cell_type": "markdown",
   "id": "da9d132c",
   "metadata": {},
   "source": [
    "Conclusion:\n",
    "\n",
    "- we see that People whom insurance company contacted on cellular and telephone almost equallaly likely to opt for insurance  (Second plot).\n",
    "- But maximum call has been made on cellular (First plot).\n",
    "- Our common general assumption that People whom insurance company contacted on telephone is least likely compared to people whom we contacted on cellualr buy insurance is wrong. We think people who has telephone likely stay at home and may not have active source and thus they won't buy insurance which is also wrong.\n",
    "- Here we have 28% call type of people whom insurance company contacted through other means least likely to buy the insurance\n",
    "- So we need not to focus on people People with unknown call type."
   ]
  },
  {
   "cell_type": "markdown",
   "id": "1d330503",
   "metadata": {},
   "source": [
    "### mon"
   ]
  },
  {
   "cell_type": "code",
   "execution_count": 104,
   "id": "83cacb21",
   "metadata": {},
   "outputs": [
    {
     "data": {
      "image/png": "[encoded data removed]",
      "text/plain": [
       "<Figure size 640x480 with 1 Axes>"
      ]
     },
     "metadata": {},
     "output_type": "display_data"
    }
   ],
   "source": [
    "df01=df.groupby([\"day\"])[\"day\"].count().to_frame()\n",
    "df01.rename(columns={\"day\":'count'},inplace=True)\n",
    "df01=df01.sort_values(by=\"day\").reset_index()\n",
    "ax=sns.barplot(data=df01,x=\"day\",y=\"count\")\n",
    "ax.tick_params(axis='x',rotation=90)\n",
    "ax.set_title('Distribution of day on which contact has been made');"
   ]
  },
  {
   "cell_type": "code",
   "execution_count": 105,
   "id": "2b0ae0df",
   "metadata": {},
   "outputs": [
    {
     "data": {
      "image/png": "[encoded data removed]",
      "text/plain": [
       "<Figure size 640x480 with 1 Axes>"
      ]
     },
     "metadata": {},
     "output_type": "display_data"
    }
   ],
   "source": [
    "sns.boxplot(data=df,x='y',y='day');"
   ]
  },
  {
   "cell_type": "markdown",
   "id": "fe21e2c1",
   "metadata": {},
   "source": [
    "### dur"
   ]
  },
  {
   "cell_type": "code",
   "execution_count": 106,
   "id": "a09d9619",
   "metadata": {},
   "outputs": [
    {
     "data": {
      "image/png": "[encoded data removed]",
      "text/plain": [
       "<Figure size 640x480 with 1 Axes>"
      ]
     },
     "metadata": {},
     "output_type": "display_data"
    }
   ],
   "source": [
    "sns.histplot(df,x=\"dur\",kde = True);\n",
    "plt.show()"
   ]
  },
  {
   "cell_type": "code",
   "execution_count": 107,
   "id": "9ee5b89d",
   "metadata": {},
   "outputs": [
    {
     "data": {
      "image/png": "[encoded data removed]",
      "text/plain": [
       "<Figure size 640x480 with 1 Axes>"
      ]
     },
     "metadata": {},
     "output_type": "display_data"
    }
   ],
   "source": [
    "sns.boxplot(data=df,x='y',y='dur');"
   ]
  },
  {
   "cell_type": "markdown",
   "id": "a7e90723",
   "metadata": {},
   "source": [
    "Conclusion:\n",
    "\n",
    "- we see that when duration of call ends more than 300 seconds with potential customer, they end up buying the insurance . Call that ends less than 300 seconds ends up failure(Second plot). \n",
    "- But maximum call has duration has in between 0 and 300 seconds (First plot).\n",
    "- So Insurance company should engage customer for more than 300 seconds, which will most likey results in customer buying the insurance.Short calls will not give the details of the insurance. Insurance company need to tell benefits of insurance in details which requires atleast 5 minutes."
   ]
  },
  {
   "cell_type": "markdown",
   "id": "c9a35b06",
   "metadata": {},
   "source": [
    "#### num_calls"
   ]
  },
  {
   "cell_type": "code",
   "execution_count": 108,
   "id": "888dd331",
   "metadata": {},
   "outputs": [
    {
     "data": {
      "image/png": "[encoded data removed]",
      "text/plain": [
       "<Figure size 640x480 with 1 Axes>"
      ]
     },
     "metadata": {},
     "output_type": "display_data"
    }
   ],
   "source": [
    "df['num_calls'].value_counts().plot(kind='bar');"
   ]
  },
  {
   "cell_type": "code",
   "execution_count": 109,
   "id": "1bb139a7",
   "metadata": {},
   "outputs": [
    {
     "data": {
      "image/png": "[encoded data removed]",
      "text/plain": [
       "<Figure size 640x480 with 1 Axes>"
      ]
     },
     "metadata": {},
     "output_type": "display_data"
    }
   ],
   "source": [
    "(df.groupby(\"num_calls\")['Target'].mean()*100).sort_values().plot(kind='barh');\n",
    "plt.title('Percentage of People who opted Insurance based on number of calls');"
   ]
  },
  {
   "cell_type": "markdown",
   "id": "e34bc5d1",
   "metadata": {},
   "source": [
    "Conclusion:\n",
    "\n",
    "- we see that least number of calls enough to convience customer to buy the insurance . more number of calls results in failure(Second plot). \n",
    "- But maximum number of calls has been less to each customer (First plot).\n",
    "- So Insurance company should try to explain customer benefits of insurance in less number of calls. More calls looks like scam calls which customer always hate."
   ]
  },
  {
   "cell_type": "markdown",
   "id": "63e27ad7",
   "metadata": {},
   "source": [
    "#### prev_outcome"
   ]
  },
  {
   "cell_type": "code",
   "execution_count": 110,
   "id": "a4c88a3f",
   "metadata": {},
   "outputs": [
    {
     "data": {
      "image/png": "[encoded data removed]",
      "text/plain": [
       "<Figure size 640x480 with 1 Axes>"
      ]
     },
     "metadata": {},
     "output_type": "display_data"
    }
   ],
   "source": [
    "df['prev_outcome'].value_counts().plot(kind='bar');"
   ]
  },
  {
   "cell_type": "code",
   "execution_count": 111,
   "id": "37a534bf",
   "metadata": {},
   "outputs": [
    {
     "data": {
      "image/png": "[encoded data removed]",
      "text/plain": [
       "<Figure size 640x480 with 1 Axes>"
      ]
     },
     "metadata": {},
     "output_type": "display_data"
    }
   ],
   "source": [
    "(df.groupby(\"prev_outcome\")['Target'].mean()*100).sort_values().plot(kind='barh');\n",
    "plt.title('Percentage of People who opted Insurance based on the previous outcome');"
   ]
  },
  {
   "cell_type": "markdown",
   "id": "36d6e0de",
   "metadata": {},
   "source": [
    "Conclusion:\n",
    "\n",
    "- we see that people whose previous call outcome is success ends up buying the insurance(Second plot). \n",
    "- But maximum number of calls has been made to customer with previous call outcome as unknown which could be first time calling the customer(First plot).\n",
    "- So Insurance company should try to to contact people whose previous call outcome is succes and then focus on other."
   ]
  },
  {
   "cell_type": "markdown",
   "id": "8c6d0b2e",
   "metadata": {},
   "source": [
    "## Data Encoding"
   ]
  },
  {
   "cell_type": "code",
   "execution_count": 112,
   "id": "7a829307",
   "metadata": {},
   "outputs": [
    {
     "data": {
      "text/html": [
       "<div>\n",
       "<style scoped>\n",
       "    .dataframe tbody tr th:only-of-type {\n",
       "        vertical-align: middle;\n",
       "    }\n",
       "\n",
       "    .dataframe tbody tr th {\n",
       "        vertical-align: top;\n",
       "    }\n",
       "\n",
       "    .dataframe thead th {\n",
       "        text-align: right;\n",
       "    }\n",
       "</style>\n",
       "<table border=\"1\" class=\"dataframe\">\n",
       "  <thead>\n",
       "    <tr style=\"text-align: right;\">\n",
       "      <th></th>\n",
       "      <th>age</th>\n",
       "      <th>job</th>\n",
       "      <th>marital</th>\n",
       "      <th>education_qual</th>\n",
       "      <th>call_type</th>\n",
       "      <th>day</th>\n",
       "      <th>mon</th>\n",
       "      <th>dur</th>\n",
       "      <th>num_calls</th>\n",
       "      <th>prev_outcome</th>\n",
       "      <th>y</th>\n",
       "      <th>Target</th>\n",
       "    </tr>\n",
       "  </thead>\n",
       "  <tbody>\n",
       "    <tr>\n",
       "      <th>0</th>\n",
       "      <td>58</td>\n",
       "      <td>management</td>\n",
       "      <td>married</td>\n",
       "      <td>tertiary</td>\n",
       "      <td>unknown</td>\n",
       "      <td>5</td>\n",
       "      <td>may</td>\n",
       "      <td>261.0</td>\n",
       "      <td>1.0</td>\n",
       "      <td>unknown</td>\n",
       "      <td>no</td>\n",
       "      <td>0</td>\n",
       "    </tr>\n",
       "    <tr>\n",
       "      <th>1</th>\n",
       "      <td>44</td>\n",
       "      <td>technician</td>\n",
       "      <td>single</td>\n",
       "      <td>secondary</td>\n",
       "      <td>unknown</td>\n",
       "      <td>5</td>\n",
       "      <td>may</td>\n",
       "      <td>151.0</td>\n",
       "      <td>1.0</td>\n",
       "      <td>unknown</td>\n",
       "      <td>no</td>\n",
       "      <td>0</td>\n",
       "    </tr>\n",
       "    <tr>\n",
       "      <th>2</th>\n",
       "      <td>33</td>\n",
       "      <td>entrepreneur</td>\n",
       "      <td>married</td>\n",
       "      <td>secondary</td>\n",
       "      <td>unknown</td>\n",
       "      <td>5</td>\n",
       "      <td>may</td>\n",
       "      <td>76.0</td>\n",
       "      <td>1.0</td>\n",
       "      <td>unknown</td>\n",
       "      <td>no</td>\n",
       "      <td>0</td>\n",
       "    </tr>\n",
       "    <tr>\n",
       "      <th>5</th>\n",
       "      <td>35</td>\n",
       "      <td>management</td>\n",
       "      <td>married</td>\n",
       "      <td>tertiary</td>\n",
       "      <td>unknown</td>\n",
       "      <td>5</td>\n",
       "      <td>may</td>\n",
       "      <td>139.0</td>\n",
       "      <td>1.0</td>\n",
       "      <td>unknown</td>\n",
       "      <td>no</td>\n",
       "      <td>0</td>\n",
       "    </tr>\n",
       "    <tr>\n",
       "      <th>6</th>\n",
       "      <td>28</td>\n",
       "      <td>management</td>\n",
       "      <td>single</td>\n",
       "      <td>tertiary</td>\n",
       "      <td>unknown</td>\n",
       "      <td>5</td>\n",
       "      <td>may</td>\n",
       "      <td>217.0</td>\n",
       "      <td>1.0</td>\n",
       "      <td>unknown</td>\n",
       "      <td>no</td>\n",
       "      <td>0</td>\n",
       "    </tr>\n",
       "  </tbody>\n",
       "</table>\n",
       "</div>"
      ],
      "text/plain": [
       "   age           job  marital education_qual call_type  day  mon    dur  \\\n",
       "0   58    management  married       tertiary   unknown    5  may  261.0   \n",
       "1   44    technician   single      secondary   unknown    5  may  151.0   \n",
       "2   33  entrepreneur  married      secondary   unknown    5  may   76.0   \n",
       "5   35    management  married       tertiary   unknown    5  may  139.0   \n",
       "6   28    management   single       tertiary   unknown    5  may  217.0   \n",
       "\n",
       "   num_calls prev_outcome   y  Target  \n",
       "0        1.0      unknown  no       0  \n",
       "1        1.0      unknown  no       0  \n",
       "2        1.0      unknown  no       0  \n",
       "5        1.0      unknown  no       0  \n",
       "6        1.0      unknown  no       0  "
      ]
     },
     "execution_count": 112,
     "metadata": {},
     "output_type": "execute_result"
    }
   ],
   "source": [
    "df.head()"
   ]
  },
  {
   "cell_type": "code",
   "execution_count": 113,
   "id": "aed32db2",
   "metadata": {},
   "outputs": [
    {
     "data": {
      "text/plain": [
       "prev_outcome\n",
       "success    65.858586\n",
       "other      17.170022\n",
       "failure    13.037975\n",
       "unknown     9.550689\n",
       "Name: Target, dtype: float64"
      ]
     },
     "execution_count": 113,
     "metadata": {},
     "output_type": "execute_result"
    }
   ],
   "source": [
    "(df.groupby(\"prev_outcome\")['Target'].mean()*100).sort_values(ascending=False)"
   ]
  },
  {
   "cell_type": "code",
   "execution_count": 114,
   "id": "a1e1f201",
   "metadata": {},
   "outputs": [
    {
     "name": "stdout",
     "output_type": "stream",
     "text": [
      "<class 'pandas.core.frame.DataFrame'>\n",
      "Int64Index: 43445 entries, 0 to 45210\n",
      "Data columns (total 11 columns):\n",
      " #   Column          Non-Null Count  Dtype  \n",
      "---  ------          --------------  -----  \n",
      " 0   age             43445 non-null  int64  \n",
      " 1   job             43445 non-null  int64  \n",
      " 2   marital         43445 non-null  int64  \n",
      " 3   education_qual  43445 non-null  int64  \n",
      " 4   call_type       43445 non-null  int64  \n",
      " 5   day             43445 non-null  int64  \n",
      " 6   mon             43445 non-null  int64  \n",
      " 7   dur             43445 non-null  float64\n",
      " 8   num_calls       43445 non-null  float64\n",
      " 9   prev_outcome    43445 non-null  int64  \n",
      " 10  Target          43445 non-null  int64  \n",
      "dtypes: float64(2), int64(9)\n",
      "memory usage: 5.0 MB\n"
     ]
    }
   ],
   "source": [
    "df['job']=df['job'].map({'student':1,'retired':2,'unemployed':3,'management':4,'admin':5,'self-employed':6,'technician':7,'services':8,'housemaid':9,'entrepreneur':10,'blue-collar':11})\n",
    "df['marital']=df['marital'].map({'single':1,'divorced':2,'married':3})\n",
    "df['education_qual']=df['education_qual'].map({'tertiary':1,'secondary':2,'primary':3})\n",
    "df['call_type']=df['call_type'].map({'cellular':1,'telephone':2,'unknown':3})\n",
    "df['mon']=df['mon'].map({'mar':1,'sep':2,'dec':3,'oct':4,'apr':5,'feb':6,'aug':7,'jun':8,'jan':9,'nov':10,'jul':11,'may':12})\n",
    "df['prev_outcome']=df['prev_outcome'].map({'success':1,'other':2,'failure':3,'unknown':4})\n",
    "df.drop(columns=['y'], inplace=True)\n",
    "df.info()"
   ]
  },
  {
   "cell_type": "markdown",
   "id": "a11e3ec7",
   "metadata": {},
   "source": [
    "## Data Splitting"
   ]
  },
  {
   "cell_type": "code",
   "execution_count": 140,
   "id": "a05b910c",
   "metadata": {},
   "outputs": [],
   "source": [
    "from sklearn.model_selection import train_test_split\n",
    "\n",
    "X=df.drop(columns=['Target']).values\n",
    "y=df['Target'].values\n",
    "X_train, X_test, y_train, y_test = train_test_split(X, y, test_size=0.3,random_state=3,stratify=y)"
   ]
  },
  {
   "cell_type": "code",
   "execution_count": 130,
   "id": "8ae80e57",
   "metadata": {},
   "outputs": [
    {
     "name": "stdout",
     "output_type": "stream",
     "text": [
      "(30411, 10) (13034, 10) (30411,) (13034,)\n",
      "(array([0, 1], dtype=int64), array([26710,  3701], dtype=int64))\n"
     ]
    }
   ],
   "source": [
    "print(X_train.shape, X_test.shape, y_train.shape, y_test.shape)\n",
    "print(np.unique(y_train,return_counts=True))"
   ]
  },
  {
   "cell_type": "markdown",
   "id": "89b973a1",
   "metadata": {},
   "source": [
    "## Data Scaling"
   ]
  },
  {
   "cell_type": "code",
   "execution_count": 303,
   "id": "df7142df",
   "metadata": {},
   "outputs": [],
   "source": [
    "from sklearn.preprocessing import StandardScaler ## standrard scalig \n",
    "\n",
    "scaler = StandardScaler() #initialise to a variable\n",
    "scaler.fit(X_train) # we are finding the values of mean and sd from the td\n",
    "X_train_scaled = scaler.transform(X_train) # fit (mean, sd) and then transform the training data\n",
    "X_test_scaled = scaler.transform(X_test) # transform the test data "
   ]
  },
  {
   "cell_type": "markdown",
   "id": "e24d72f4",
   "metadata": {},
   "source": [
    "## Training Data Balancing"
   ]
  },
  {
   "cell_type": "code",
   "execution_count": 304,
   "id": "13f6fcd9",
   "metadata": {},
   "outputs": [],
   "source": [
    "from imblearn.combine import SMOTEENN\n",
    "\n",
    "smt = SMOTEENN(sampling_strategy='all')\n",
    "X_train_balanced, y_train_balanced = smt.fit_resample(X_train_scaled, y_train)"
   ]
  },
  {
   "cell_type": "code",
   "execution_count": 305,
   "id": "8988509b",
   "metadata": {},
   "outputs": [
    {
     "name": "stdout",
     "output_type": "stream",
     "text": [
      "(47181, 10) (13034, 10) (47181,) (13034,)\n",
      "(array([0, 1], dtype=int64), array([26710,  3701], dtype=int64))\n"
     ]
    }
   ],
   "source": [
    "print(X_train_balanced.shape, X_test.shape, y_train_balanced.shape, y_test.shape)\n",
    "print(np.unique(y_train,return_counts=True))"
   ]
  },
  {
   "cell_type": "markdown",
   "id": "82cc4b57",
   "metadata": {},
   "source": [
    "## LogisticRegression"
   ]
  },
  {
   "cell_type": "code",
   "execution_count": 306,
   "id": "8d129771",
   "metadata": {},
   "outputs": [
    {
     "data": {
      "text/plain": [
       "LogisticRegression()"
      ]
     },
     "execution_count": 306,
     "metadata": {},
     "output_type": "execute_result"
    }
   ],
   "source": [
    "from sklearn.linear_model import LogisticRegression #main code that build the LR model \n",
    "logistic_regression= LogisticRegression() #initialise the required package\n",
    "logistic_regression.fit(X_train_balanced,y_train_balanced) #magic happens - best values of betas - training/learning happens here"
   ]
  },
  {
   "cell_type": "code",
   "execution_count": 307,
   "id": "7f2bfa99",
   "metadata": {
    "scrolled": true
   },
   "outputs": [
    {
     "data": {
      "text/plain": [
       "array([0, 0, 1, ..., 0, 0, 0], dtype=int64)"
      ]
     },
     "execution_count": 307,
     "metadata": {},
     "output_type": "execute_result"
    }
   ],
   "source": [
    "y_pred=logistic_regression.predict(X_test_scaled)\n",
    "y_pred"
   ]
  },
  {
   "cell_type": "code",
   "execution_count": 308,
   "id": "7d382c0a",
   "metadata": {},
   "outputs": [
    {
     "data": {
      "text/plain": [
       "array([[8825, 2623],\n",
       "       [ 222, 1364]], dtype=int64)"
      ]
     },
     "execution_count": 308,
     "metadata": {},
     "output_type": "execute_result"
    }
   ],
   "source": [
    "from sklearn.metrics import confusion_matrix\n",
    "\n",
    "confusion_matrix(y_test,y_pred)"
   ]
  },
  {
   "cell_type": "code",
   "execution_count": 309,
   "id": "d6ee6c49",
   "metadata": {},
   "outputs": [
    {
     "name": "stdout",
     "output_type": "stream",
     "text": [
      "0.8900801408727483\n"
     ]
    }
   ],
   "source": [
    "from sklearn.metrics import roc_auc_score\n",
    "\n",
    "lg_roc=roc_auc_score(y_test,logistic_regression.predict_proba(X_test_scaled)[:,1])\n",
    "print(lg_roc)"
   ]
  },
  {
   "cell_type": "code",
   "execution_count": 182,
   "id": "fd936e70",
   "metadata": {},
   "outputs": [
    {
     "data": {
      "text/plain": [
       "Index(['age', 'job', 'marital', 'education_qual', 'call_type', 'day', 'mon',\n",
       "       'dur', 'num_calls', 'prev_outcome', 'Target'],\n",
       "      dtype='object')"
      ]
     },
     "execution_count": 182,
     "metadata": {},
     "output_type": "execute_result"
    }
   ],
   "source": [
    "df.columns"
   ]
  },
  {
   "cell_type": "code",
   "execution_count": 210,
   "id": "69bf8a00",
   "metadata": {},
   "outputs": [
    {
     "data": {
      "text/html": [
       "<div>\n",
       "<style scoped>\n",
       "    .dataframe tbody tr th:only-of-type {\n",
       "        vertical-align: middle;\n",
       "    }\n",
       "\n",
       "    .dataframe tbody tr th {\n",
       "        vertical-align: top;\n",
       "    }\n",
       "\n",
       "    .dataframe thead th {\n",
       "        text-align: right;\n",
       "    }\n",
       "</style>\n",
       "<table border=\"1\" class=\"dataframe\">\n",
       "  <thead>\n",
       "    <tr style=\"text-align: right;\">\n",
       "      <th></th>\n",
       "      <th>Coefficients</th>\n",
       "    </tr>\n",
       "  </thead>\n",
       "  <tbody>\n",
       "    <tr>\n",
       "      <th>age</th>\n",
       "      <td>0.059285</td>\n",
       "    </tr>\n",
       "    <tr>\n",
       "      <th>job</th>\n",
       "      <td>-0.096332</td>\n",
       "    </tr>\n",
       "    <tr>\n",
       "      <th>marital</th>\n",
       "      <td>-0.336749</td>\n",
       "    </tr>\n",
       "    <tr>\n",
       "      <th>education_qual</th>\n",
       "      <td>-0.089546</td>\n",
       "    </tr>\n",
       "    <tr>\n",
       "      <th>call_type</th>\n",
       "      <td>-0.794932</td>\n",
       "    </tr>\n",
       "    <tr>\n",
       "      <th>day</th>\n",
       "      <td>0.020912</td>\n",
       "    </tr>\n",
       "    <tr>\n",
       "      <th>mon</th>\n",
       "      <td>-0.319786</td>\n",
       "    </tr>\n",
       "    <tr>\n",
       "      <th>dur</th>\n",
       "      <td>0.014553</td>\n",
       "    </tr>\n",
       "    <tr>\n",
       "      <th>num_calls</th>\n",
       "      <td>-0.031857</td>\n",
       "    </tr>\n",
       "    <tr>\n",
       "      <th>prev_outcome</th>\n",
       "      <td>-0.569937</td>\n",
       "    </tr>\n",
       "  </tbody>\n",
       "</table>\n",
       "</div>"
      ],
      "text/plain": [
       "                Coefficients\n",
       "age                 0.059285\n",
       "job                -0.096332\n",
       "marital            -0.336749\n",
       "education_qual     -0.089546\n",
       "call_type          -0.794932\n",
       "day                 0.020912\n",
       "mon                -0.319786\n",
       "dur                 0.014553\n",
       "num_calls          -0.031857\n",
       "prev_outcome       -0.569937"
      ]
     },
     "execution_count": 210,
     "metadata": {},
     "output_type": "execute_result"
    }
   ],
   "source": [
    "coef=pd.DataFrame(logistic_regression.coef_.reshape(-1),[['age', 'job', 'marital', 'education_qual', 'call_type', 'day', 'mon',\n",
    "       'dur', 'num_calls', 'prev_outcome']],[\"Coefficients\"])\n",
    "coef"
   ]
  },
  {
   "cell_type": "code",
   "execution_count": 214,
   "id": "fff7d787",
   "metadata": {},
   "outputs": [],
   "source": [
    "coef.reset_index(inplace=True)\n",
    "coef[\"Coefficients\"]=coef[\"Coefficients\"].apply(lambda x:abs(x))\n",
    "coef[\"Importnace\"]=coef[\"Coefficients\"].apply(lambda x:x/coef[\"Coefficients\"].sum())"
   ]
  },
  {
   "cell_type": "code",
   "execution_count": 215,
   "id": "fc569047",
   "metadata": {},
   "outputs": [
    {
     "data": {
      "text/html": [
       "<div>\n",
       "<style scoped>\n",
       "    .dataframe tbody tr th:only-of-type {\n",
       "        vertical-align: middle;\n",
       "    }\n",
       "\n",
       "    .dataframe tbody tr th {\n",
       "        vertical-align: top;\n",
       "    }\n",
       "\n",
       "    .dataframe thead th {\n",
       "        text-align: right;\n",
       "    }\n",
       "</style>\n",
       "<table border=\"1\" class=\"dataframe\">\n",
       "  <thead>\n",
       "    <tr style=\"text-align: right;\">\n",
       "      <th></th>\n",
       "      <th>index</th>\n",
       "      <th>Features</th>\n",
       "      <th>Coefficients</th>\n",
       "      <th>Importnace</th>\n",
       "    </tr>\n",
       "  </thead>\n",
       "  <tbody>\n",
       "    <tr>\n",
       "      <th>0</th>\n",
       "      <td>0</td>\n",
       "      <td>age</td>\n",
       "      <td>0.059285</td>\n",
       "      <td>0.025402</td>\n",
       "    </tr>\n",
       "    <tr>\n",
       "      <th>1</th>\n",
       "      <td>1</td>\n",
       "      <td>job</td>\n",
       "      <td>0.096332</td>\n",
       "      <td>0.041275</td>\n",
       "    </tr>\n",
       "    <tr>\n",
       "      <th>2</th>\n",
       "      <td>2</td>\n",
       "      <td>marital</td>\n",
       "      <td>0.336749</td>\n",
       "      <td>0.144287</td>\n",
       "    </tr>\n",
       "    <tr>\n",
       "      <th>3</th>\n",
       "      <td>3</td>\n",
       "      <td>education_qual</td>\n",
       "      <td>0.089546</td>\n",
       "      <td>0.038368</td>\n",
       "    </tr>\n",
       "    <tr>\n",
       "      <th>4</th>\n",
       "      <td>4</td>\n",
       "      <td>call_type</td>\n",
       "      <td>0.794932</td>\n",
       "      <td>0.340604</td>\n",
       "    </tr>\n",
       "    <tr>\n",
       "      <th>5</th>\n",
       "      <td>5</td>\n",
       "      <td>day</td>\n",
       "      <td>0.020912</td>\n",
       "      <td>0.008960</td>\n",
       "    </tr>\n",
       "    <tr>\n",
       "      <th>6</th>\n",
       "      <td>6</td>\n",
       "      <td>mon</td>\n",
       "      <td>0.319786</td>\n",
       "      <td>0.137019</td>\n",
       "    </tr>\n",
       "    <tr>\n",
       "      <th>7</th>\n",
       "      <td>7</td>\n",
       "      <td>dur</td>\n",
       "      <td>0.014553</td>\n",
       "      <td>0.006236</td>\n",
       "    </tr>\n",
       "    <tr>\n",
       "      <th>8</th>\n",
       "      <td>8</td>\n",
       "      <td>num_calls</td>\n",
       "      <td>0.031857</td>\n",
       "      <td>0.013650</td>\n",
       "    </tr>\n",
       "    <tr>\n",
       "      <th>9</th>\n",
       "      <td>9</td>\n",
       "      <td>prev_outcome</td>\n",
       "      <td>0.569937</td>\n",
       "      <td>0.244200</td>\n",
       "    </tr>\n",
       "  </tbody>\n",
       "</table>\n",
       "</div>"
      ],
      "text/plain": [
       "   index        Features  Coefficients  Importnace\n",
       "0      0             age      0.059285    0.025402\n",
       "1      1             job      0.096332    0.041275\n",
       "2      2         marital      0.336749    0.144287\n",
       "3      3  education_qual      0.089546    0.038368\n",
       "4      4       call_type      0.794932    0.340604\n",
       "5      5             day      0.020912    0.008960\n",
       "6      6             mon      0.319786    0.137019\n",
       "7      7             dur      0.014553    0.006236\n",
       "8      8       num_calls      0.031857    0.013650\n",
       "9      9    prev_outcome      0.569937    0.244200"
      ]
     },
     "execution_count": 215,
     "metadata": {},
     "output_type": "execute_result"
    }
   ],
   "source": [
    "coef"
   ]
  },
  {
   "cell_type": "code",
   "execution_count": 217,
   "id": "6a2e5c0e",
   "metadata": {},
   "outputs": [
    {
     "data": {
      "image/png": "[encoded data removed]",
      "text/plain": [
       "<Figure size 640x480 with 1 Axes>"
      ]
     },
     "metadata": {},
     "output_type": "display_data"
    }
   ],
   "source": [
    "coef=coef.rename(columns={'level_0':'Features'})\n",
    "coef.sort_values(\"Importnace\",ascending=True,inplace=True)\n",
    "coef.plot(kind='barh',y=\"Importnace\",x=\"Features\");"
   ]
  },
  {
   "cell_type": "markdown",
   "id": "a54f28b9",
   "metadata": {},
   "source": [
    "Conclusion:\n",
    "- Call type,Previous outcome is very important features while predicting in Logistic Regression model"
   ]
  },
  {
   "cell_type": "markdown",
   "id": "876f8da5",
   "metadata": {},
   "source": [
    "## K-NN"
   ]
  },
  {
   "cell_type": "code",
   "execution_count": 174,
   "id": "e67d6378",
   "metadata": {},
   "outputs": [
    {
     "name": "stdout",
     "output_type": "stream",
     "text": [
      "Best parameter: {'knn__n_neighbors': 42}\n",
      "Best score: 0.8971038507797567\n"
     ]
    }
   ],
   "source": [
    "from imblearn.pipeline import Pipeline\n",
    "from imblearn.combine import SMOTEENN\n",
    "from sklearn.model_selection import GridSearchCV\n",
    "from sklearn.neighbors import KNeighborsClassifier\n",
    "from sklearn.preprocessing import StandardScaler ## standrard scalig \n",
    "import warnings\n",
    "warnings.filterwarnings(\"ignore\")\n",
    "\n",
    "# Define the KNN classifier\n",
    "knn = KNeighborsClassifier()\n",
    "\n",
    "# Define the pipeline that includes the KNN classifier and SMOTEENN\n",
    "pipeline = Pipeline([\n",
    "    ('smoteenn', SMOTEENN(random_state=11)),\n",
    "    ('scaler', StandardScaler()),\n",
    "    ('knn', knn)\n",
    "])\n",
    "\n",
    "# Define the parameter grid to search\n",
    "param_grid = {'knn__n_neighbors': list(range(1,50))}\n",
    "\n",
    "# Perform grid search using cross-validation\n",
    "grid_search = GridSearchCV(pipeline, param_grid=param_grid, cv=5, scoring='roc_auc')\n",
    "grid_search.fit(X_train, y_train)\n",
    "\n",
    "# Print the best parameter and score\n",
    "print(\"Best parameter:\", grid_search.best_params_)\n",
    "print(\"Best score:\", grid_search.best_score_)"
   ]
  },
  {
   "cell_type": "code",
   "execution_count": 292,
   "id": "713c0238",
   "metadata": {},
   "outputs": [],
   "source": [
    "X=df.drop(columns=['Target'])\n",
    "y=df['Target']\n",
    "X_train, X_test, y_train, y_test = train_test_split(X, y, test_size=0.3,random_state=3,stratify=y)\n",
    "\n",
    "scaler = StandardScaler() #initialise to a variable\n",
    "scaler.fit(X_train) # we are finding the values of mean and sd from the td\n",
    "X_train_scaled = scaler.transform(X_train) # fit (mean, sd) and then transform the training data\n",
    "X_test_scaled = scaler.transform(X_test) # transform the test data \n",
    "\n",
    "\n",
    "from imblearn.combine import SMOTEENN\n",
    "\n",
    "smt = SMOTEENN(sampling_strategy='all')\n",
    "X_train_balanced, y_train_balanced = smt.fit_resample(X_train_scaled, y_train)"
   ]
  },
  {
   "cell_type": "code",
   "execution_count": 298,
   "id": "c4a55b82",
   "metadata": {},
   "outputs": [
    {
     "data": {
      "text/plain": [
       "0.7972226484578794"
      ]
     },
     "execution_count": 298,
     "metadata": {},
     "output_type": "execute_result"
    }
   ],
   "source": [
    "from sklearn.neighbors import KNeighborsClassifier\n",
    "\n",
    "knn = KNeighborsClassifier(42)\n",
    "knn.fit(X_train_balanced,y_train_balanced)\n",
    "knn.score(X_test_scaled,y_test)"
   ]
  },
  {
   "cell_type": "code",
   "execution_count": 299,
   "id": "73954fe9",
   "metadata": {},
   "outputs": [
    {
     "data": {
      "text/plain": [
       "array([0, 0, 1, ..., 0, 0, 0], dtype=int64)"
      ]
     },
     "execution_count": 299,
     "metadata": {},
     "output_type": "execute_result"
    }
   ],
   "source": [
    "y_pred = knn.predict(X_test_scaled)\n",
    "y_pred"
   ]
  },
  {
   "cell_type": "code",
   "execution_count": 300,
   "id": "12eeb1a7",
   "metadata": {},
   "outputs": [
    {
     "data": {
      "text/plain": [
       "array([[9006, 2442],\n",
       "       [ 201, 1385]], dtype=int64)"
      ]
     },
     "execution_count": 300,
     "metadata": {},
     "output_type": "execute_result"
    }
   ],
   "source": [
    "from sklearn.metrics import confusion_matrix\n",
    "\n",
    "confusion_matrix(y_test,y_pred)"
   ]
  },
  {
   "cell_type": "code",
   "execution_count": 301,
   "id": "451a2c27",
   "metadata": {},
   "outputs": [
    {
     "name": "stdout",
     "output_type": "stream",
     "text": [
      "0.9000409659820423\n"
     ]
    }
   ],
   "source": [
    "from sklearn.metrics import roc_auc_score\n",
    "\n",
    "knn_roc=roc_auc_score(y_test,knn.predict_proba(X_test_scaled)[:,1])\n",
    "print(knn_roc)"
   ]
  },
  {
   "cell_type": "markdown",
   "id": "35a245e0",
   "metadata": {},
   "source": [
    "## Decision Tree"
   ]
  },
  {
   "cell_type": "code",
   "execution_count": 195,
   "id": "1256d6b0",
   "metadata": {},
   "outputs": [
    {
     "name": "stdout",
     "output_type": "stream",
     "text": [
      "Best parameter: {'dt__max_depth': 7}\n",
      "Best score: 0.8829171107676214\n"
     ]
    }
   ],
   "source": [
    "from imblearn.pipeline import Pipeline\n",
    "from imblearn.combine import SMOTEENN\n",
    "from sklearn.model_selection import GridSearchCV\n",
    "from sklearn.tree import DecisionTreeClassifier\n",
    "\n",
    "dt = DecisionTreeClassifier(random_state=34)\n",
    "\n",
    "pipeline = Pipeline([\n",
    "    ('smoteenn', SMOTEENN(random_state=11)),\n",
    "    ('scaler', StandardScaler()),\n",
    "    ('dt', dt)\n",
    "])\n",
    "\n",
    "param_grid = {'dt__max_depth': list(range(1,50))}\n",
    "\n",
    "grid_search = GridSearchCV(pipeline, param_grid=param_grid, cv=5, scoring='roc_auc')\n",
    "grid_search.fit(X_train, y_train)\n",
    "\n",
    "print(\"Best parameter:\", grid_search.best_params_)\n",
    "print(\"Best score:\", grid_search.best_score_)"
   ]
  },
  {
   "cell_type": "code",
   "execution_count": 252,
   "id": "6a9f53cb",
   "metadata": {},
   "outputs": [],
   "source": [
    "X=df.drop(columns=['Target'])\n",
    "y=df['Target']\n",
    "X_train, X_test, y_train, y_test = train_test_split(X, y, test_size=0.3,random_state=3,stratify=y)\n",
    "\n",
    "from imblearn.combine import SMOTEENN\n",
    "\n",
    "smt = SMOTEENN(sampling_strategy='all')\n",
    "X_train_balanced, y_train_balanced = smt.fit_resample(X_train, y_train)"
   ]
  },
  {
   "cell_type": "code",
   "execution_count": 253,
   "id": "e5603c06",
   "metadata": {},
   "outputs": [
    {
     "data": {
      "text/plain": [
       "array([0, 0, 1, ..., 0, 0, 0], dtype=int64)"
      ]
     },
     "execution_count": 253,
     "metadata": {},
     "output_type": "execute_result"
    }
   ],
   "source": [
    "from sklearn.tree import DecisionTreeClassifier\n",
    "\n",
    "dt = DecisionTreeClassifier(max_depth=7)\n",
    "dt.fit(X_train_balanced ,y_train_balanced) \n",
    "y_pred = dt.predict(X_test)\n",
    "y_pred"
   ]
  },
  {
   "cell_type": "code",
   "execution_count": 254,
   "id": "10da2533",
   "metadata": {},
   "outputs": [
    {
     "name": "stdout",
     "output_type": "stream",
     "text": [
      "0.8945252913993249\n"
     ]
    }
   ],
   "source": [
    "from sklearn.metrics import roc_auc_score\n",
    "dt_roc=roc_auc_score(y_test,dt.predict_proba(X_test)[:,1])\n",
    "print(dt_roc)"
   ]
  },
  {
   "cell_type": "code",
   "execution_count": 255,
   "id": "31b9135d",
   "metadata": {},
   "outputs": [
    {
     "data": {
      "text/plain": [
       "array([[9354, 2094],\n",
       "       [ 251, 1335]], dtype=int64)"
      ]
     },
     "execution_count": 255,
     "metadata": {},
     "output_type": "execute_result"
    }
   ],
   "source": [
    "from sklearn.metrics import confusion_matrix\n",
    "\n",
    "confusion_matrix(y_test,y_pred)"
   ]
  },
  {
   "cell_type": "code",
   "execution_count": 258,
   "id": "db0594bc",
   "metadata": {},
   "outputs": [
    {
     "data": {
      "image/png": "[encoded data removed]",
      "text/plain": [
       "<Figure size 640x480 with 1 Axes>"
      ]
     },
     "metadata": {},
     "output_type": "display_data"
    }
   ],
   "source": [
    "fi = pd.DataFrame(data=dt.feature_importances_,\n",
    "             index=dt.feature_names_in_,\n",
    "             columns=['importance'])\n",
    "fi.sort_values('importance').plot(kind='barh', title='Feature Importance')\n",
    "plt.show()"
   ]
  },
  {
   "cell_type": "markdown",
   "id": "89b1e811",
   "metadata": {},
   "source": [
    "Conclusion:\n",
    "- From Decision Tree we can say that duration of call is very important feature in determing the prediction"
   ]
  },
  {
   "cell_type": "markdown",
   "id": "b40e952d",
   "metadata": {},
   "source": [
    "## Random Forest"
   ]
  },
  {
   "cell_type": "code",
   "execution_count": 259,
   "id": "d9fdee4d",
   "metadata": {},
   "outputs": [],
   "source": [
    "X=df.drop(columns=['Target'])\n",
    "y=df['Target']\n",
    "X_train, X_test, y_train, y_test = train_test_split(X, y, test_size=0.3,random_state=3,stratify=y)\n",
    "\n",
    "from imblearn.combine import SMOTEENN\n",
    "smt = SMOTEENN(sampling_strategy='all')\n",
    "X_train_balanced, y_train_balanced = smt.fit_resample(X_train, y_train)"
   ]
  },
  {
   "cell_type": "code",
   "execution_count": 262,
   "id": "582acb4f",
   "metadata": {},
   "outputs": [
    {
     "name": "stdout",
     "output_type": "stream",
     "text": [
      "0.70147307043118\n",
      "0.70147307043118\n"
     ]
    }
   ],
   "source": [
    "from sklearn.ensemble import RandomForestClassifier\n",
    "from sklearn.metrics import accuracy_score\n",
    "\n",
    "rf = RandomForestClassifier(n_estimators= 100, max_depth = 2, max_features='sqrt')\n",
    "rf.fit(X_train_balanced, y_train_balanced)\n",
    "y_pred=rf.predict(X_test)\n",
    "#print(rf.score(X_test,y_test))\n",
    "print(accuracy_score(y_pred,y_test))"
   ]
  },
  {
   "cell_type": "code",
   "execution_count": 168,
   "id": "579f30a5",
   "metadata": {},
   "outputs": [
    {
     "data": {
      "text/plain": [
       "array([[7754, 3694],\n",
       "       [ 184, 1402]], dtype=int64)"
      ]
     },
     "execution_count": 168,
     "metadata": {},
     "output_type": "execute_result"
    }
   ],
   "source": [
    "confusion_matrix(y_test,y_pred)"
   ]
  },
  {
   "cell_type": "code",
   "execution_count": 263,
   "id": "7f303a5c",
   "metadata": {},
   "outputs": [
    {
     "name": "stdout",
     "output_type": "stream",
     "text": [
      "0.8643859938419944\n"
     ]
    }
   ],
   "source": [
    "rf_roc=roc_auc_score(y_test,rf.predict_proba(X_test)[:,1])\n",
    "print(rf_roc)"
   ]
  },
  {
   "cell_type": "code",
   "execution_count": 264,
   "id": "03e66464",
   "metadata": {},
   "outputs": [
    {
     "data": {
      "image/png": "[encoded data removed]",
      "text/plain": [
       "<Figure size 640x480 with 1 Axes>"
      ]
     },
     "metadata": {},
     "output_type": "display_data"
    }
   ],
   "source": [
    "fi = pd.DataFrame(data=rf.feature_importances_,\n",
    "             index=rf.feature_names_in_,\n",
    "             columns=['importance'])\n",
    "fi.sort_values('importance').plot(kind='barh', title='Feature Importance')\n",
    "plt.show()"
   ]
  },
  {
   "cell_type": "markdown",
   "id": "a238e3c4",
   "metadata": {},
   "source": [
    "Conclusion:\n",
    "- From Random Forest Model we can say that 'duration of call' and 'previous outcome' is very important feature in determing the prediction"
   ]
  },
  {
   "cell_type": "markdown",
   "id": "c71828d7",
   "metadata": {},
   "source": [
    "## Voting Classifier"
   ]
  },
  {
   "cell_type": "code",
   "execution_count": 164,
   "id": "f192f403",
   "metadata": {},
   "outputs": [
    {
     "name": "stdout",
     "output_type": "stream",
     "text": [
      "0.8906012206739086\n"
     ]
    }
   ],
   "source": [
    "from sklearn.ensemble import VotingClassifier # this is the function that ensembles my model\n",
    "from sklearn.linear_model import LogisticRegression\n",
    "from sklearn import tree\n",
    "from sklearn.neighbors import KNeighborsClassifier\n",
    "from sklearn.metrics import roc_auc_score\n",
    "\n",
    "model1 = LogisticRegression(random_state=1)\n",
    "model2 = tree.DecisionTreeClassifier(random_state=1)\n",
    "model3 = KNeighborsClassifier(3)\n",
    "model = VotingClassifier(estimators=[('lr', model1), ('dt', model2),('knn',model3)], voting='soft') # it will stitich all the models together, voting = hard means max voting \n",
    "\n",
    "model.fit(X_train,y_train) # to train all of the models\n",
    "preds = model.predict(X_test)\n",
    "vc_roc=roc_auc_score(y_test,model.predict_proba(X_test)[:,1])\n",
    "print(vc_roc)"
   ]
  },
  {
   "cell_type": "code",
   "execution_count": 165,
   "id": "62ddea52",
   "metadata": {},
   "outputs": [
    {
     "data": {
      "text/plain": [
       "array([[11011,   437],\n",
       "       [ 1003,   583]], dtype=int64)"
      ]
     },
     "execution_count": 165,
     "metadata": {},
     "output_type": "execute_result"
    }
   ],
   "source": [
    "y_pred=model.predict(X_test)\n",
    "\n",
    "confusion_matrix(y_test,y_pred)"
   ]
  },
  {
   "cell_type": "markdown",
   "id": "53ff530a",
   "metadata": {},
   "source": [
    "## Bagging Classifier"
   ]
  },
  {
   "cell_type": "code",
   "execution_count": 266,
   "id": "a7844db5",
   "metadata": {},
   "outputs": [],
   "source": [
    "X=df.drop(columns=['Target'])\n",
    "y=df['Target']\n",
    "X_train, X_test, y_train, y_test = train_test_split(X, y, test_size=0.3,random_state=3,stratify=y)\n",
    "\n",
    "\n",
    "from imblearn.combine import SMOTEENN\n",
    "\n",
    "smt = SMOTEENN(sampling_strategy='all')\n",
    "X_train_balanced, y_train_balanced = smt.fit_resample(X_train, y_train)"
   ]
  },
  {
   "cell_type": "code",
   "execution_count": 267,
   "id": "9f45eaa0",
   "metadata": {},
   "outputs": [
    {
     "data": {
      "text/plain": [
       "BaggingClassifier(base_estimator=DecisionTreeClassifier(max_depth=7,\n",
       "                                                        random_state=1),\n",
       "                  n_estimators=100)"
      ]
     },
     "execution_count": 267,
     "metadata": {},
     "output_type": "execute_result"
    }
   ],
   "source": [
    "from sklearn.ensemble import BaggingClassifier\n",
    "from sklearn import tree\n",
    "model = BaggingClassifier(tree.DecisionTreeClassifier(max_depth = 7, random_state=1), n_estimators=100)\n",
    "model.fit(X_train_balanced, y_train_balanced)"
   ]
  },
  {
   "cell_type": "code",
   "execution_count": 268,
   "id": "e2c1bc0f",
   "metadata": {},
   "outputs": [
    {
     "name": "stdout",
     "output_type": "stream",
     "text": [
      "0.8991295031737345\n"
     ]
    }
   ],
   "source": [
    "bag_roc=roc_auc_score(y_test,model.predict_proba(X_test)[:,1])\n",
    "print(bag_roc)"
   ]
  },
  {
   "cell_type": "code",
   "execution_count": 147,
   "id": "96427a86",
   "metadata": {},
   "outputs": [
    {
     "data": {
      "text/plain": [
       "array([[9455, 1993],\n",
       "       [ 233, 1353]], dtype=int64)"
      ]
     },
     "execution_count": 147,
     "metadata": {},
     "output_type": "execute_result"
    }
   ],
   "source": [
    "y_pred=model.predict(X_test)\n",
    "\n",
    "confusion_matrix(y_test,y_pred)"
   ]
  },
  {
   "cell_type": "markdown",
   "id": "c9d49dfb",
   "metadata": {},
   "source": [
    "### XG Boost"
   ]
  },
  {
   "cell_type": "code",
   "execution_count": 157,
   "id": "87ca8298",
   "metadata": {},
   "outputs": [
    {
     "name": "stdout",
     "output_type": "stream",
     "text": [
      "Best parameter: {'xgb__learning_rate': 0.17}\n",
      "Best score: 0.9236751124427729\n"
     ]
    }
   ],
   "source": [
    "from imblearn.pipeline import Pipeline\n",
    "from imblearn.combine import SMOTEENN\n",
    "from sklearn.model_selection import GridSearchCV\n",
    "from xgboost import XGBClassifier\n",
    "import warnings\n",
    "warnings.filterwarnings(\"ignore\")\n",
    "\n",
    "# Define the KNN classifier\n",
    "#dt = DecisionTreeClassifier(random_state=34)\n",
    "xgb = XGBClassifier(n_estimators=100, verbosity = 0) \n",
    "\n",
    "\n",
    "# Define the pipeline that includes the KNN classifier and SMOTEENN\n",
    "pipeline = Pipeline([\n",
    "    ('smoteenn', SMOTEENN(random_state=11)),\n",
    "    ('xgb', xgb)\n",
    "])\n",
    "\n",
    "# Define the parameter grid to search\n",
    "param_grid = {\n",
    "    'xgb__learning_rate': np.arange(0.01, 1.01, 0.01)\n",
    "\n",
    "}\n",
    "#param_grid = {'knn__n_neighbors': list(range(1,5))}\n",
    "\n",
    "# Perform grid search using cross-validation\n",
    "grid_search = GridSearchCV(pipeline, param_grid=param_grid, cv=5, scoring='roc_auc')\n",
    "grid_search.fit(X_train, y_train)\n",
    "\n",
    "# Print the best parameter and score\n",
    "print(\"Best parameter:\", grid_search.best_params_)\n",
    "print(\"Best score:\", grid_search.best_score_)"
   ]
  },
  {
   "cell_type": "code",
   "execution_count": 280,
   "id": "2715589a",
   "metadata": {},
   "outputs": [],
   "source": [
    "X=df.drop(columns=['Target'])\n",
    "y=df['Target']\n",
    "X_train, X_test, y_train, y_test = train_test_split(X, y, test_size=0.3,random_state=3,stratify=y)\n",
    "\n",
    "from imblearn.combine import SMOTEENN\n",
    "\n",
    "smt = SMOTEENN(sampling_strategy='all')\n",
    "X_train_balanced, y_train_balanced = smt.fit_resample(X_train, y_train)"
   ]
  },
  {
   "cell_type": "code",
   "execution_count": 281,
   "id": "105503ac",
   "metadata": {},
   "outputs": [
    {
     "data": {
      "text/plain": [
       "0.8618229246585852"
      ]
     },
     "execution_count": 281,
     "metadata": {},
     "output_type": "execute_result"
    }
   ],
   "source": [
    "model = XGBClassifier(learning_rate = 0.17, n_estimators=100)\n",
    "model.fit(X_train_balanced,y_train_balanced) #train the model\n",
    "model.score(X_test, y_test)"
   ]
  },
  {
   "cell_type": "code",
   "execution_count": 282,
   "id": "13e7bdf3",
   "metadata": {},
   "outputs": [],
   "source": [
    "y_pred = model.predict(X_test)"
   ]
  },
  {
   "cell_type": "code",
   "execution_count": 283,
   "id": "6e9d4a0a",
   "metadata": {},
   "outputs": [
    {
     "name": "stdout",
     "output_type": "stream",
     "text": [
      "0.92121717874695\n"
     ]
    }
   ],
   "source": [
    "from sklearn.metrics import roc_auc_score\n",
    "xg_roc=roc_auc_score(y_test,model.predict_proba(X_test)[:,1])\n",
    "print(xg_roc)"
   ]
  },
  {
   "cell_type": "code",
   "execution_count": 284,
   "id": "ebf93498",
   "metadata": {},
   "outputs": [
    {
     "data": {
      "image/png": "[encoded data removed]",
      "text/plain": [
       "<Figure size 640x480 with 1 Axes>"
      ]
     },
     "metadata": {},
     "output_type": "display_data"
    }
   ],
   "source": [
    "fi = pd.DataFrame(data=model.feature_importances_,\n",
    "             index=model.feature_names_in_,\n",
    "             columns=['importance'])\n",
    "fi.sort_values('importance').plot(kind='barh', title='Feature Importance')\n",
    "plt.show()"
   ]
  },
  {
   "cell_type": "markdown",
   "id": "07d35478",
   "metadata": {},
   "source": [
    "Conclusion:\n",
    "- From XGBoost Model we can say that firstly 'previous outcome' and then 'duration of call' is very important feature in determing the prediction"
   ]
  },
  {
   "cell_type": "markdown",
   "id": "9df481ae",
   "metadata": {},
   "source": [
    "# Summary:"
   ]
  },
  {
   "cell_type": "code",
   "execution_count": 310,
   "id": "0820de3f",
   "metadata": {},
   "outputs": [
    {
     "data": {
      "text/html": [
       "<div>\n",
       "<style scoped>\n",
       "    .dataframe tbody tr th:only-of-type {\n",
       "        vertical-align: middle;\n",
       "    }\n",
       "\n",
       "    .dataframe tbody tr th {\n",
       "        vertical-align: top;\n",
       "    }\n",
       "\n",
       "    .dataframe thead th {\n",
       "        text-align: right;\n",
       "    }\n",
       "</style>\n",
       "<table border=\"1\" class=\"dataframe\">\n",
       "  <thead>\n",
       "    <tr style=\"text-align: right;\">\n",
       "      <th></th>\n",
       "      <th>ROC_SCORE</th>\n",
       "    </tr>\n",
       "  </thead>\n",
       "  <tbody>\n",
       "    <tr>\n",
       "      <th>Logistic Regression</th>\n",
       "      <td>0.890080</td>\n",
       "    </tr>\n",
       "    <tr>\n",
       "      <th>KNN</th>\n",
       "      <td>0.900041</td>\n",
       "    </tr>\n",
       "    <tr>\n",
       "      <th>Decision Tree</th>\n",
       "      <td>0.894525</td>\n",
       "    </tr>\n",
       "    <tr>\n",
       "      <th>Random Forest</th>\n",
       "      <td>0.864386</td>\n",
       "    </tr>\n",
       "    <tr>\n",
       "      <th>Voting Classifier</th>\n",
       "      <td>0.890601</td>\n",
       "    </tr>\n",
       "    <tr>\n",
       "      <th>Bagging</th>\n",
       "      <td>0.899130</td>\n",
       "    </tr>\n",
       "    <tr>\n",
       "      <th>XGBoost</th>\n",
       "      <td>0.921217</td>\n",
       "    </tr>\n",
       "  </tbody>\n",
       "</table>\n",
       "</div>"
      ],
      "text/plain": [
       "                     ROC_SCORE\n",
       "Logistic Regression   0.890080\n",
       "KNN                   0.900041\n",
       "Decision Tree         0.894525\n",
       "Random Forest         0.864386\n",
       "Voting Classifier     0.890601\n",
       "Bagging               0.899130\n",
       "XGBoost               0.921217"
      ]
     },
     "execution_count": 310,
     "metadata": {},
     "output_type": "execute_result"
    }
   ],
   "source": [
    "data={'ROC_SCORE':[lg_roc,knn_roc,dt_roc,rf_roc,vc_roc,bag_roc,xg_roc]}\n",
    "label=['Logistic Regression', 'KNN', 'Decision Tree', 'Random Forest', 'Voting Classifier', 'Bagging', 'XGBoost']\n",
    "Final=pd.DataFrame(data,index=label)\n",
    "Final"
   ]
  },
  {
   "cell_type": "markdown",
   "id": "3ace06e1",
   "metadata": {},
   "source": [
    "Conclusion:\n",
    "- XGBoost gives better prediction compared to other Model with ROC score of 0.92"
   ]
  },
  {
   "cell_type": "code",
   "execution_count": null,
   "id": "240fe19e",
   "metadata": {},
   "outputs": [],
   "source": []
  }
 ],
 "metadata": {
  "hide_input": false,
  "kernelspec": {
   "display_name": "Python 3 (ipykernel)",
   "language": "python",
   "name": "python3"
  },
  "language_info": {
   "codemirror_mode": {
    "name": "ipython",
    "version": 3
   },
   "file_extension": ".py",
   "mimetype": "text/x-python",
   "name": "python",
   "nbconvert_exporter": "python",
   "pygments_lexer": "ipython3",
   "version": "3.9.13"
  }
 },
 "nbformat": 4,
 "nbformat_minor": 5
}
